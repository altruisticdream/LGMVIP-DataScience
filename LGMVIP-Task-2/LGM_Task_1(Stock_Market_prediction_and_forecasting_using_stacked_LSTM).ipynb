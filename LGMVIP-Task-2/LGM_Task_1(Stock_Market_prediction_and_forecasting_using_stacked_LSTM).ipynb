{
  "nbformat": 4,
  "nbformat_minor": 0,
  "metadata": {
    "colab": {
      "name": "LGM_Task_1(Stock_Market_prediction_and_forecasting_using_stacked_LSTM).ipynb",
      "provenance": [],
      "toc_visible": true
    },
    "kernelspec": {
      "name": "python3",
      "display_name": "Python 3"
    },
    "language_info": {
      "name": "python"
    }
  },
  "cells": [
    {
      "cell_type": "markdown",
      "metadata": {
        "id": "xsJyIW6PqXjh"
      },
      "source": [
        "# **Task_1:Stock Market prediction and forecasting using stacked LSTM**\n",
        "\n",
        "## Author: Ashutosh Gautam\n",
        "\n"
      ]
    },
    {
      "cell_type": "code",
      "metadata": {
        "id": "QmKfZW0U_ukr",
        "colab": {
          "base_uri": "https://localhost:8080/"
        },
        "outputId": "04217e5b-5f2a-417a-fa30-1388cf9fcab3"
      },
      "source": [
        "#Mount Google drive\n",
        "from google.colab import drive\n",
        "drive.mount('/content/drive')"
      ],
      "execution_count": 35,
      "outputs": [
        {
          "output_type": "stream",
          "text": [
            "Drive already mounted at /content/drive; to attempt to forcibly remount, call drive.mount(\"/content/drive\", force_remount=True).\n"
          ],
          "name": "stdout"
        }
      ]
    },
    {
      "cell_type": "code",
      "metadata": {
        "id": "KHzcDHYD_xuS",
        "colab": {
          "base_uri": "https://localhost:8080/"
        },
        "outputId": "f9ab6de7-240e-4c86-f0f6-cb14e46c2674"
      },
      "source": [
        "#Change the directory to the path where you have all your input files\n",
        "%cd /content/drive/My Drive/LGMVIP_Task_2 Stock market\n",
        "\n",
        "#Below command shows you all thee files present in your current directory\n",
        "#!ls"
      ],
      "execution_count": 36,
      "outputs": [
        {
          "output_type": "stream",
          "text": [
            "/content/drive/My Drive/LGMVIP_Task_2 Stock market\n"
          ],
          "name": "stdout"
        }
      ]
    },
    {
      "cell_type": "code",
      "metadata": {
        "id": "_t3SXgNHrD4b",
        "colab": {
          "base_uri": "https://localhost:8080/",
          "height": 201
        },
        "outputId": "d0a35cb8-bca4-4565-acdd-3a4e29b33c20"
      },
      "source": [
        "#Reading the dataset\n",
        "import pandas as pd\n",
        "df=pd.read_csv('NSE_TATAGLOBAL.csv')\n",
        "df.head(10)\n",
        "#Sorting the data date wise\n",
        "dff=df. iloc[::-1]\n",
        "dff.head()"
      ],
      "execution_count": 37,
      "outputs": [
        {
          "output_type": "execute_result",
          "data": {
            "text/html": [
              "<div>\n",
              "<style scoped>\n",
              "    .dataframe tbody tr th:only-of-type {\n",
              "        vertical-align: middle;\n",
              "    }\n",
              "\n",
              "    .dataframe tbody tr th {\n",
              "        vertical-align: top;\n",
              "    }\n",
              "\n",
              "    .dataframe thead th {\n",
              "        text-align: right;\n",
              "    }\n",
              "</style>\n",
              "<table border=\"1\" class=\"dataframe\">\n",
              "  <thead>\n",
              "    <tr style=\"text-align: right;\">\n",
              "      <th></th>\n",
              "      <th>Date</th>\n",
              "      <th>Open</th>\n",
              "      <th>High</th>\n",
              "      <th>Low</th>\n",
              "      <th>Last</th>\n",
              "      <th>Close</th>\n",
              "      <th>Total Trade Quantity</th>\n",
              "      <th>Turnover (Lacs)</th>\n",
              "    </tr>\n",
              "  </thead>\n",
              "  <tbody>\n",
              "    <tr>\n",
              "      <th>2034</th>\n",
              "      <td>2010-07-21</td>\n",
              "      <td>122.1</td>\n",
              "      <td>123.00</td>\n",
              "      <td>121.05</td>\n",
              "      <td>121.10</td>\n",
              "      <td>121.55</td>\n",
              "      <td>658666</td>\n",
              "      <td>803.56</td>\n",
              "    </tr>\n",
              "    <tr>\n",
              "      <th>2033</th>\n",
              "      <td>2010-07-22</td>\n",
              "      <td>120.3</td>\n",
              "      <td>122.00</td>\n",
              "      <td>120.25</td>\n",
              "      <td>120.75</td>\n",
              "      <td>120.90</td>\n",
              "      <td>293312</td>\n",
              "      <td>355.17</td>\n",
              "    </tr>\n",
              "    <tr>\n",
              "      <th>2032</th>\n",
              "      <td>2010-07-23</td>\n",
              "      <td>121.8</td>\n",
              "      <td>121.95</td>\n",
              "      <td>120.25</td>\n",
              "      <td>120.35</td>\n",
              "      <td>120.65</td>\n",
              "      <td>281312</td>\n",
              "      <td>340.31</td>\n",
              "    </tr>\n",
              "    <tr>\n",
              "      <th>2031</th>\n",
              "      <td>2010-07-26</td>\n",
              "      <td>120.1</td>\n",
              "      <td>121.00</td>\n",
              "      <td>117.10</td>\n",
              "      <td>117.10</td>\n",
              "      <td>117.60</td>\n",
              "      <td>658440</td>\n",
              "      <td>780.01</td>\n",
              "    </tr>\n",
              "    <tr>\n",
              "      <th>2030</th>\n",
              "      <td>2010-07-27</td>\n",
              "      <td>117.6</td>\n",
              "      <td>119.50</td>\n",
              "      <td>112.00</td>\n",
              "      <td>118.80</td>\n",
              "      <td>118.65</td>\n",
              "      <td>586100</td>\n",
              "      <td>694.98</td>\n",
              "    </tr>\n",
              "  </tbody>\n",
              "</table>\n",
              "</div>"
            ],
            "text/plain": [
              "            Date   Open    High  ...   Close  Total Trade Quantity  Turnover (Lacs)\n",
              "2034  2010-07-21  122.1  123.00  ...  121.55                658666           803.56\n",
              "2033  2010-07-22  120.3  122.00  ...  120.90                293312           355.17\n",
              "2032  2010-07-23  121.8  121.95  ...  120.65                281312           340.31\n",
              "2031  2010-07-26  120.1  121.00  ...  117.60                658440           780.01\n",
              "2030  2010-07-27  117.6  119.50  ...  118.65                586100           694.98\n",
              "\n",
              "[5 rows x 8 columns]"
            ]
          },
          "metadata": {
            "tags": []
          },
          "execution_count": 37
        }
      ]
    },
    {
      "cell_type": "code",
      "metadata": {
        "colab": {
          "base_uri": "https://localhost:8080/"
        },
        "id": "tc5uOLamsbjI",
        "outputId": "9d5958b7-84e9-4f8f-9d0e-d16746b6ba51"
      },
      "source": [
        "#Taking High value in d1\n",
        "dd=dff.reset_index()['High']\n",
        "dd.head()"
      ],
      "execution_count": 38,
      "outputs": [
        {
          "output_type": "execute_result",
          "data": {
            "text/plain": [
              "0    123.00\n",
              "1    122.00\n",
              "2    121.95\n",
              "3    121.00\n",
              "4    119.50\n",
              "Name: High, dtype: float64"
            ]
          },
          "metadata": {
            "tags": []
          },
          "execution_count": 38
        }
      ]
    },
    {
      "cell_type": "code",
      "metadata": {
        "colab": {
          "base_uri": "https://localhost:8080/",
          "height": 280
        },
        "id": "HOnOWHnptP4Q",
        "outputId": "74ff4f55-4b70-4437-9ff8-362e154d9ef7"
      },
      "source": [
        "#Plotting Stock price w.r.t High\n",
        "import matplotlib.pyplot as plt\n",
        "plt.plot(dd)"
      ],
      "execution_count": 39,
      "outputs": [
        {
          "output_type": "execute_result",
          "data": {
            "text/plain": [
              "[<matplotlib.lines.Line2D at 0x7fabf10cd950>]"
            ]
          },
          "metadata": {
            "tags": []
          },
          "execution_count": 39
        },
        {
          "output_type": "display_data",
          "data": {
            "image/png": "[encoded data removed]",
            "text/plain": [
              "<Figure size 432x288 with 1 Axes>"
            ]
          },
          "metadata": {
            "tags": [],
            "needs_background": "light"
          }
        }
      ]
    },
    {
      "cell_type": "code",
      "metadata": {
        "colab": {
          "base_uri": "https://localhost:8080/"
        },
        "id": "Rr44x2vXt1fH",
        "outputId": "e50db795-5bc4-427a-da8b-880aa3f1f70f"
      },
      "source": [
        "#Applying Minmax scaler to transform values of high into 0 to 1\n",
        "import numpy as np\n",
        "from sklearn.preprocessing import MinMaxScaler\n",
        "sc=MinMaxScaler(feature_range=(0,1))\n",
        "dd=sc.fit_transform(np.array(dd).reshape(-1,1))\n",
        "dd\n",
        "#Now d1 is converted into array having value between 0 and 1"
      ],
      "execution_count": null,
      "outputs": [
        {
          "output_type": "execute_result",
          "data": {
            "text/plain": [
              "array([[0.16344786],\n",
              "       [0.15938199],\n",
              "       [0.15917869],\n",
              "       ...,\n",
              "       [0.6391543 ],\n",
              "       [0.62614353],\n",
              "       [0.62268754]])"
            ]
          },
          "metadata": {
            "tags": []
          },
          "execution_count": 10
        }
      ]
    },
    {
      "cell_type": "code",
      "metadata": {
        "colab": {
          "base_uri": "https://localhost:8080/"
        },
        "id": "qmH_rXVrvBx-",
        "outputId": "9e22371e-d470-4295-b12e-159928927a1f"
      },
      "source": [
        "#Splitting dataset into train and test split\n",
        "train_size=int(len(dd)*0.65) #training size will be 65% of total size of dataset.\n",
        "test_size=len(dd)-train_size #test size=35%\n",
        "train_size,test_size"
      ],
      "execution_count": null,
      "outputs": [
        {
          "output_type": "execute_result",
          "data": {
            "text/plain": [
              "(1322, 713)"
            ]
          },
          "metadata": {
            "tags": []
          },
          "execution_count": 11
        }
      ]
    },
    {
      "cell_type": "code",
      "metadata": {
        "colab": {
          "base_uri": "https://localhost:8080/"
        },
        "id": "lO03re5dyx5V",
        "outputId": "6ac3f644-98b9-4dfa-bc0b-70d0c925aa53"
      },
      "source": [
        "train_data,test_data=dd[0:train_size,:],dd[train_size:len(dd),:1]\n",
        "len(train_data),len(test_data)"
      ],
      "execution_count": null,
      "outputs": [
        {
          "output_type": "execute_result",
          "data": {
            "text/plain": [
              "(1322, 713)"
            ]
          },
          "metadata": {
            "tags": []
          },
          "execution_count": 12
        }
      ]
    },
    {
      "cell_type": "code",
      "metadata": {
        "id": "zZ3zG82gzJpT"
      },
      "source": [
        "import numpy\n",
        "# convert the array of values into a dataset matrix\n",
        "def crDataset(dataset,time_step=1):\n",
        "  dataX,dataY=[],[]\n",
        "  for i in range (len(dataset)-time_step-1):\n",
        "    val=dataset[i:(i+time_step),0]\n",
        "    dataX.append(val)\n",
        "    dataY.append(dataset[i+time_step,0])\n",
        "  return numpy.array(dataX),numpy.array(dataY)"
      ],
      "execution_count": null,
      "outputs": []
    },
    {
      "cell_type": "code",
      "metadata": {
        "id": "7pUBq89I1llk"
      },
      "source": [
        "#reshaping into x_train and y_train\n",
        "time_step=100\n",
        "x_train, y_train = crDataset(train_data,time_step)\n",
        "x_test, y_test =  crDataset(test_data,time_step)"
      ],
      "execution_count": null,
      "outputs": []
    },
    {
      "cell_type": "code",
      "metadata": {
        "colab": {
          "base_uri": "https://localhost:8080/"
        },
        "id": "atw4oFQ22e4t",
        "outputId": "3e649d4b-5f7a-48b3-a456-607c1c34cf30"
      },
      "source": [
        "print(x_train.shape),print(y_train.shape)"
      ],
      "execution_count": null,
      "outputs": [
        {
          "output_type": "stream",
          "text": [
            "(1221, 100)\n",
            "(1221,)\n"
          ],
          "name": "stdout"
        },
        {
          "output_type": "execute_result",
          "data": {
            "text/plain": [
              "(None, None)"
            ]
          },
          "metadata": {
            "tags": []
          },
          "execution_count": 15
        }
      ]
    },
    {
      "cell_type": "code",
      "metadata": {
        "id": "vMzUO8_93Iu7"
      },
      "source": [
        "#reshaping x_train and x_test into three dimension which is required for LSTM.\n",
        "#input be like [samples,time steps,features]\n",
        "x_train=x_train.reshape(x_train.shape[0],x_train.shape[1],1)\n",
        "x_test=x_test.reshape(x_test.shape[0],x_test.shape[1],1)"
      ],
      "execution_count": null,
      "outputs": []
    },
    {
      "cell_type": "code",
      "metadata": {
        "id": "3FcR0bZy4Twq"
      },
      "source": [
        "#Creating stacked LSTM model\n",
        "from tensorflow.keras.models import Sequential\n",
        "from tensorflow.keras.layers import Dense\n",
        "from tensorflow.keras.layers import LSTM\n",
        "model=Sequential()\n",
        "model.add(LSTM(50,return_sequences=True,input_shape=(100,1)))\n",
        "model.add(LSTM(50,return_sequences=True))\n",
        "model.add(LSTM(50))\n",
        "model.add(Dense(1))\n",
        "model.compile(loss='mean_squared_error',optimizer='adam')"
      ],
      "execution_count": null,
      "outputs": []
    },
    {
      "cell_type": "code",
      "metadata": {
        "colab": {
          "base_uri": "https://localhost:8080/"
        },
        "id": "v8SIAESp5zob",
        "outputId": "6a40ab88-0794-4aa2-c430-621978f4774b"
      },
      "source": [
        "model.summary()"
      ],
      "execution_count": null,
      "outputs": [
        {
          "output_type": "stream",
          "text": [
            "Model: \"sequential\"\n",
            "_________________________________________________________________\n",
            "Layer (type)                 Output Shape              Param #   \n",
            "=================================================================\n",
            "lstm (LSTM)                  (None, 100, 50)           10400     \n",
            "_________________________________________________________________\n",
            "lstm_1 (LSTM)                (None, 100, 50)           20200     \n",
            "_________________________________________________________________\n",
            "lstm_2 (LSTM)                (None, 50)                20200     \n",
            "_________________________________________________________________\n",
            "dense (Dense)                (None, 1)                 51        \n",
            "=================================================================\n",
            "Total params: 50,851\n",
            "Trainable params: 50,851\n",
            "Non-trainable params: 0\n",
            "_________________________________________________________________\n"
          ],
          "name": "stdout"
        }
      ]
    },
    {
      "cell_type": "code",
      "metadata": {
        "colab": {
          "base_uri": "https://localhost:8080/"
        },
        "id": "Gt5-rhIp59Kc",
        "outputId": "e24056ff-12c5-4026-bb4e-1699a9cafd78"
      },
      "source": [
        "model.fit(x_train,y_train,validation_data=(x_test,y_test),epochs=100,batch_size=64,verbose=1)"
      ],
      "execution_count": null,
      "outputs": [
        {
          "output_type": "stream",
          "text": [
            "Epoch 1/100\n",
            "20/20 [==============================] - 9s 218ms/step - loss: 0.0086 - val_loss: 0.0122\n",
            "Epoch 2/100\n",
            "20/20 [==============================] - 3s 163ms/step - loss: 0.0016 - val_loss: 0.0031\n",
            "Epoch 3/100\n",
            "20/20 [==============================] - 3s 163ms/step - loss: 9.4552e-04 - val_loss: 0.0027\n",
            "Epoch 4/100\n",
            "20/20 [==============================] - 3s 163ms/step - loss: 9.7336e-04 - val_loss: 0.0050\n",
            "Epoch 5/100\n",
            "20/20 [==============================] - 3s 162ms/step - loss: 8.3350e-04 - val_loss: 0.0039\n",
            "Epoch 6/100\n",
            "20/20 [==============================] - 3s 160ms/step - loss: 8.0584e-04 - val_loss: 0.0023\n",
            "Epoch 7/100\n",
            "20/20 [==============================] - 3s 165ms/step - loss: 8.3586e-04 - val_loss: 0.0031\n",
            "Epoch 8/100\n",
            "20/20 [==============================] - 3s 165ms/step - loss: 7.4189e-04 - val_loss: 0.0033\n",
            "Epoch 9/100\n",
            "20/20 [==============================] - 3s 162ms/step - loss: 7.1242e-04 - val_loss: 0.0030\n",
            "Epoch 10/100\n",
            "20/20 [==============================] - 3s 162ms/step - loss: 7.3856e-04 - val_loss: 0.0055\n",
            "Epoch 11/100\n",
            "20/20 [==============================] - 3s 164ms/step - loss: 7.5923e-04 - val_loss: 0.0063\n",
            "Epoch 12/100\n",
            "20/20 [==============================] - 3s 164ms/step - loss: 6.7021e-04 - val_loss: 0.0078\n",
            "Epoch 13/100\n",
            "20/20 [==============================] - 3s 163ms/step - loss: 7.0535e-04 - val_loss: 0.0058\n",
            "Epoch 14/100\n",
            "20/20 [==============================] - 3s 162ms/step - loss: 6.3073e-04 - val_loss: 0.0044\n",
            "Epoch 15/100\n",
            "20/20 [==============================] - 3s 163ms/step - loss: 6.2178e-04 - val_loss: 0.0056\n",
            "Epoch 16/100\n",
            "20/20 [==============================] - 3s 163ms/step - loss: 6.0453e-04 - val_loss: 0.0066\n",
            "Epoch 17/100\n",
            "20/20 [==============================] - 3s 162ms/step - loss: 6.2660e-04 - val_loss: 0.0033\n",
            "Epoch 18/100\n",
            "20/20 [==============================] - 3s 163ms/step - loss: 6.4968e-04 - val_loss: 0.0063\n",
            "Epoch 19/100\n",
            "20/20 [==============================] - 3s 162ms/step - loss: 5.5705e-04 - val_loss: 0.0090\n",
            "Epoch 20/100\n",
            "20/20 [==============================] - 3s 165ms/step - loss: 5.5742e-04 - val_loss: 0.0064\n",
            "Epoch 21/100\n",
            "20/20 [==============================] - 3s 164ms/step - loss: 5.3709e-04 - val_loss: 0.0058\n",
            "Epoch 22/100\n",
            "20/20 [==============================] - 3s 162ms/step - loss: 5.1181e-04 - val_loss: 0.0112\n",
            "Epoch 23/100\n",
            "20/20 [==============================] - 3s 165ms/step - loss: 5.2137e-04 - val_loss: 0.0115\n",
            "Epoch 24/100\n",
            "20/20 [==============================] - 3s 165ms/step - loss: 5.2217e-04 - val_loss: 0.0048\n",
            "Epoch 25/100\n",
            "20/20 [==============================] - 3s 163ms/step - loss: 5.2847e-04 - val_loss: 0.0098\n",
            "Epoch 26/100\n",
            "20/20 [==============================] - 3s 163ms/step - loss: 4.9992e-04 - val_loss: 0.0083\n",
            "Epoch 27/100\n",
            "20/20 [==============================] - 3s 162ms/step - loss: 5.4700e-04 - val_loss: 0.0074\n",
            "Epoch 28/100\n",
            "20/20 [==============================] - 3s 164ms/step - loss: 4.6768e-04 - val_loss: 0.0031\n",
            "Epoch 29/100\n",
            "20/20 [==============================] - 3s 162ms/step - loss: 5.0671e-04 - val_loss: 0.0041\n",
            "Epoch 30/100\n",
            "20/20 [==============================] - 3s 165ms/step - loss: 4.3958e-04 - val_loss: 0.0066\n",
            "Epoch 31/100\n",
            "20/20 [==============================] - 3s 165ms/step - loss: 4.3612e-04 - val_loss: 0.0053\n",
            "Epoch 32/100\n",
            "20/20 [==============================] - 3s 163ms/step - loss: 4.7280e-04 - val_loss: 0.0058\n",
            "Epoch 33/100\n",
            "20/20 [==============================] - 3s 165ms/step - loss: 4.1104e-04 - val_loss: 0.0020\n",
            "Epoch 34/100\n",
            "20/20 [==============================] - 3s 165ms/step - loss: 4.1125e-04 - val_loss: 0.0051\n",
            "Epoch 35/100\n",
            "20/20 [==============================] - 3s 165ms/step - loss: 3.8603e-04 - val_loss: 0.0035\n",
            "Epoch 36/100\n",
            "20/20 [==============================] - 3s 166ms/step - loss: 3.7672e-04 - val_loss: 0.0041\n",
            "Epoch 37/100\n",
            "20/20 [==============================] - 3s 164ms/step - loss: 3.6977e-04 - val_loss: 0.0044\n",
            "Epoch 38/100\n",
            "20/20 [==============================] - 3s 164ms/step - loss: 3.5407e-04 - val_loss: 0.0035\n",
            "Epoch 39/100\n",
            "20/20 [==============================] - 3s 170ms/step - loss: 3.4258e-04 - val_loss: 0.0048\n",
            "Epoch 40/100\n",
            "20/20 [==============================] - 3s 163ms/step - loss: 3.8366e-04 - val_loss: 0.0013\n",
            "Epoch 41/100\n",
            "20/20 [==============================] - 3s 164ms/step - loss: 3.6707e-04 - val_loss: 0.0046\n",
            "Epoch 42/100\n",
            "20/20 [==============================] - 3s 164ms/step - loss: 3.2402e-04 - val_loss: 0.0033\n",
            "Epoch 43/100\n",
            "20/20 [==============================] - 3s 163ms/step - loss: 3.2274e-04 - val_loss: 0.0033\n",
            "Epoch 44/100\n",
            "20/20 [==============================] - 3s 168ms/step - loss: 3.4496e-04 - val_loss: 0.0036\n",
            "Epoch 45/100\n",
            "20/20 [==============================] - 3s 164ms/step - loss: 3.1533e-04 - val_loss: 0.0022\n",
            "Epoch 46/100\n",
            "20/20 [==============================] - 3s 164ms/step - loss: 2.9882e-04 - val_loss: 0.0045\n",
            "Epoch 47/100\n",
            "20/20 [==============================] - 3s 164ms/step - loss: 3.2774e-04 - val_loss: 0.0016\n",
            "Epoch 48/100\n",
            "20/20 [==============================] - 3s 163ms/step - loss: 3.3638e-04 - val_loss: 0.0038\n",
            "Epoch 49/100\n",
            "20/20 [==============================] - 3s 166ms/step - loss: 3.0103e-04 - val_loss: 0.0011\n",
            "Epoch 50/100\n",
            "20/20 [==============================] - 3s 167ms/step - loss: 3.4323e-04 - val_loss: 0.0025\n",
            "Epoch 51/100\n",
            "20/20 [==============================] - 3s 166ms/step - loss: 2.5600e-04 - val_loss: 0.0025\n",
            "Epoch 52/100\n",
            "20/20 [==============================] - 3s 161ms/step - loss: 2.4073e-04 - val_loss: 0.0033\n",
            "Epoch 53/100\n",
            "20/20 [==============================] - 3s 163ms/step - loss: 2.3888e-04 - val_loss: 0.0018\n",
            "Epoch 54/100\n",
            "20/20 [==============================] - 3s 164ms/step - loss: 2.3903e-04 - val_loss: 0.0037\n",
            "Epoch 55/100\n",
            "20/20 [==============================] - 3s 166ms/step - loss: 2.2665e-04 - val_loss: 0.0030\n",
            "Epoch 56/100\n",
            "20/20 [==============================] - 3s 164ms/step - loss: 2.1591e-04 - val_loss: 0.0013\n",
            "Epoch 57/100\n",
            "20/20 [==============================] - 3s 165ms/step - loss: 2.2339e-04 - val_loss: 0.0027\n",
            "Epoch 58/100\n",
            "20/20 [==============================] - 3s 164ms/step - loss: 1.9846e-04 - val_loss: 0.0034\n",
            "Epoch 59/100\n",
            "20/20 [==============================] - 3s 165ms/step - loss: 1.9293e-04 - val_loss: 0.0017\n",
            "Epoch 60/100\n",
            "20/20 [==============================] - 3s 168ms/step - loss: 1.9701e-04 - val_loss: 0.0029\n",
            "Epoch 61/100\n",
            "20/20 [==============================] - 3s 164ms/step - loss: 2.0987e-04 - val_loss: 0.0021\n",
            "Epoch 62/100\n",
            "20/20 [==============================] - 3s 165ms/step - loss: 1.9006e-04 - val_loss: 0.0036\n",
            "Epoch 63/100\n",
            "20/20 [==============================] - 3s 166ms/step - loss: 1.9662e-04 - val_loss: 0.0014\n",
            "Epoch 64/100\n",
            "20/20 [==============================] - 3s 164ms/step - loss: 1.8307e-04 - val_loss: 8.3644e-04\n",
            "Epoch 65/100\n",
            "20/20 [==============================] - 3s 163ms/step - loss: 2.0824e-04 - val_loss: 0.0021\n",
            "Epoch 66/100\n",
            "20/20 [==============================] - 3s 163ms/step - loss: 1.6976e-04 - val_loss: 7.6434e-04\n",
            "Epoch 67/100\n",
            "20/20 [==============================] - 3s 163ms/step - loss: 2.0923e-04 - val_loss: 0.0037\n",
            "Epoch 68/100\n",
            "20/20 [==============================] - 3s 167ms/step - loss: 1.6730e-04 - val_loss: 0.0017\n",
            "Epoch 69/100\n",
            "20/20 [==============================] - 3s 163ms/step - loss: 1.5709e-04 - val_loss: 0.0017\n",
            "Epoch 70/100\n",
            "20/20 [==============================] - 3s 163ms/step - loss: 1.6355e-04 - val_loss: 0.0022\n",
            "Epoch 71/100\n",
            "20/20 [==============================] - 3s 164ms/step - loss: 1.5494e-04 - val_loss: 0.0013\n",
            "Epoch 72/100\n",
            "20/20 [==============================] - 3s 164ms/step - loss: 1.4737e-04 - val_loss: 0.0017\n",
            "Epoch 73/100\n",
            "20/20 [==============================] - 3s 166ms/step - loss: 1.6981e-04 - val_loss: 0.0019\n",
            "Epoch 74/100\n",
            "20/20 [==============================] - 3s 167ms/step - loss: 1.7170e-04 - val_loss: 6.4356e-04\n",
            "Epoch 75/100\n",
            "20/20 [==============================] - 3s 162ms/step - loss: 1.7979e-04 - val_loss: 8.4918e-04\n",
            "Epoch 76/100\n",
            "20/20 [==============================] - 3s 163ms/step - loss: 1.4964e-04 - val_loss: 0.0014\n",
            "Epoch 77/100\n",
            "20/20 [==============================] - 3s 163ms/step - loss: 1.4450e-04 - val_loss: 9.4368e-04\n",
            "Epoch 78/100\n",
            "20/20 [==============================] - 3s 162ms/step - loss: 1.6751e-04 - val_loss: 0.0013\n",
            "Epoch 79/100\n",
            "20/20 [==============================] - 3s 163ms/step - loss: 1.3921e-04 - val_loss: 0.0011\n",
            "Epoch 80/100\n",
            "20/20 [==============================] - 3s 167ms/step - loss: 1.3531e-04 - val_loss: 8.9355e-04\n",
            "Epoch 81/100\n",
            "20/20 [==============================] - 3s 162ms/step - loss: 1.3816e-04 - val_loss: 0.0016\n",
            "Epoch 82/100\n",
            "20/20 [==============================] - 3s 164ms/step - loss: 1.3821e-04 - val_loss: 0.0015\n",
            "Epoch 83/100\n",
            "20/20 [==============================] - 3s 163ms/step - loss: 1.3167e-04 - val_loss: 0.0017\n",
            "Epoch 84/100\n",
            "20/20 [==============================] - 3s 162ms/step - loss: 1.3429e-04 - val_loss: 0.0015\n",
            "Epoch 85/100\n",
            "20/20 [==============================] - 3s 162ms/step - loss: 1.2869e-04 - val_loss: 0.0012\n",
            "Epoch 86/100\n",
            "20/20 [==============================] - 3s 167ms/step - loss: 1.4353e-04 - val_loss: 0.0011\n",
            "Epoch 87/100\n",
            "20/20 [==============================] - 3s 166ms/step - loss: 1.3722e-04 - val_loss: 0.0011\n",
            "Epoch 88/100\n",
            "20/20 [==============================] - 3s 164ms/step - loss: 1.3145e-04 - val_loss: 0.0010\n",
            "Epoch 89/100\n",
            "20/20 [==============================] - 3s 164ms/step - loss: 1.2424e-04 - val_loss: 0.0013\n",
            "Epoch 90/100\n",
            "20/20 [==============================] - 3s 163ms/step - loss: 1.2278e-04 - val_loss: 0.0010\n",
            "Epoch 91/100\n",
            "20/20 [==============================] - 3s 164ms/step - loss: 1.2103e-04 - val_loss: 0.0017\n",
            "Epoch 92/100\n",
            "20/20 [==============================] - 3s 164ms/step - loss: 1.2597e-04 - val_loss: 0.0015\n",
            "Epoch 93/100\n",
            "20/20 [==============================] - 3s 166ms/step - loss: 1.1928e-04 - val_loss: 0.0010\n",
            "Epoch 94/100\n",
            "20/20 [==============================] - 3s 164ms/step - loss: 1.2502e-04 - val_loss: 0.0019\n",
            "Epoch 95/100\n",
            "20/20 [==============================] - 3s 168ms/step - loss: 1.1954e-04 - val_loss: 0.0012\n",
            "Epoch 96/100\n",
            "20/20 [==============================] - 3s 167ms/step - loss: 1.2076e-04 - val_loss: 0.0011\n",
            "Epoch 97/100\n",
            "20/20 [==============================] - 3s 163ms/step - loss: 1.3634e-04 - val_loss: 0.0024\n",
            "Epoch 98/100\n",
            "20/20 [==============================] - 3s 164ms/step - loss: 1.4090e-04 - val_loss: 0.0014\n",
            "Epoch 99/100\n",
            "20/20 [==============================] - 3s 165ms/step - loss: 1.1958e-04 - val_loss: 5.0123e-04\n",
            "Epoch 100/100\n",
            "20/20 [==============================] - 3s 166ms/step - loss: 1.5475e-04 - val_loss: 4.8681e-04\n"
          ],
          "name": "stdout"
        },
        {
          "output_type": "execute_result",
          "data": {
            "text/plain": [
              "<tensorflow.python.keras.callbacks.History at 0x7fabf5f75490>"
            ]
          },
          "metadata": {
            "tags": []
          },
          "execution_count": 19
        }
      ]
    },
    {
      "cell_type": "code",
      "metadata": {
        "id": "WhKGQ6Uw-uQr",
        "colab": {
          "base_uri": "https://localhost:8080/",
          "height": 34
        },
        "outputId": "7d37a8db-d54e-4d84-98bd-b3ad69a0e38a"
      },
      "source": [
        "import tensorflow as tf\n",
        "tf.__version__"
      ],
      "execution_count": null,
      "outputs": [
        {
          "output_type": "execute_result",
          "data": {
            "application/vnd.google.colaboratory.intrinsic+json": {
              "type": "string"
            },
            "text/plain": [
              "'2.5.0'"
            ]
          },
          "metadata": {
            "tags": []
          },
          "execution_count": 20
        }
      ]
    },
    {
      "cell_type": "code",
      "metadata": {
        "id": "4ijj1_t-7yHi"
      },
      "source": [
        "#Will make prediction and check performance metices\n",
        "train_predict=model.predict(x_train)\n",
        "test_predict=model.predict(x_test)"
      ],
      "execution_count": null,
      "outputs": []
    },
    {
      "cell_type": "code",
      "metadata": {
        "id": "zrdJzXOw8bwo"
      },
      "source": [
        "#Transforming back to original form\n",
        "train_predict=sc.inverse_transform(train_predict)\n",
        "test_predict=sc.inverse_transform(test_predict)"
      ],
      "execution_count": null,
      "outputs": []
    },
    {
      "cell_type": "code",
      "metadata": {
        "colab": {
          "base_uri": "https://localhost:8080/"
        },
        "id": "i59BzJw2_VFc",
        "outputId": "c4f48347-52bf-4421-a7ba-653cbb98d365"
      },
      "source": [
        "#Calculating RSME Performance metrics\n",
        "import math\n",
        "from sklearn.metrics import mean_squared_error\n",
        "#For train Data\n",
        "math.sqrt(mean_squared_error(y_train,train_predict))"
      ],
      "execution_count": null,
      "outputs": [
        {
          "output_type": "execute_result",
          "data": {
            "text/plain": [
              "138.68606519721646"
            ]
          },
          "metadata": {
            "tags": []
          },
          "execution_count": 23
        }
      ]
    },
    {
      "cell_type": "code",
      "metadata": {
        "colab": {
          "base_uri": "https://localhost:8080/"
        },
        "id": "uKgN0OW3_rgc",
        "outputId": "923c27b5-f572-4587-a0ae-e39b07747a4d"
      },
      "source": [
        "#For test Data\n",
        "math.sqrt(mean_squared_error(y_test,test_predict))"
      ],
      "execution_count": null,
      "outputs": [
        {
          "output_type": "execute_result",
          "data": {
            "text/plain": [
              "203.50659644129976"
            ]
          },
          "metadata": {
            "tags": []
          },
          "execution_count": 24
        }
      ]
    },
    {
      "cell_type": "code",
      "metadata": {
        "colab": {
          "base_uri": "https://localhost:8080/",
          "height": 263
        },
        "id": "rSOox-F7_3TZ",
        "outputId": "cf45fbd8-bf35-4d0c-8226-9346a2360bdb"
      },
      "source": [
        "#plotting our train and test data\n",
        "#shift train predictions for plotting\n",
        "look_back=100\n",
        "trainPredictPlot=numpy.empty_like(dd)\n",
        "trainPredictPlot[:,:]=np.nan\n",
        "trainPredictPlot[look_back:len(train_predict)+look_back,:]=train_predict\n",
        "#shift test predictions for plotting\n",
        "testPredictPlot=numpy.empty_like(dd)\n",
        "testPredictPlot[:,:]=np.nan\n",
        "testPredictPlot[len(train_predict)+(look_back*2)+1:len(dd)-1,:]=test_predict\n",
        "#plot baseline and predictions\n",
        "plt.plot(sc.inverse_transform(dd))\n",
        "plt.plot(trainPredictPlot)\n",
        "plt.plot(testPredictPlot)\n",
        "plt.show()\n",
        "#orange--> Training data\n",
        "#blue --> Original data\n",
        "#green--> Predicted data"
      ],
      "execution_count": null,
      "outputs": [
        {
          "output_type": "display_data",
          "data": {
            "image/png": "[encoded data removed]",
            "text/plain": [
              "<Figure size 432x288 with 1 Axes>"
            ]
          },
          "metadata": {
            "tags": [],
            "needs_background": "light"
          }
        }
      ]
    },
    {
      "cell_type": "code",
      "metadata": {
        "colab": {
          "base_uri": "https://localhost:8080/"
        },
        "id": "AdeyuwftBcq3",
        "outputId": "00e6fe1f-8d57-4320-a14f-4184358252b5"
      },
      "source": [
        "len(test_data)"
      ],
      "execution_count": null,
      "outputs": [
        {
          "output_type": "execute_result",
          "data": {
            "text/plain": [
              "713"
            ]
          },
          "metadata": {
            "tags": []
          },
          "execution_count": 26
        }
      ]
    },
    {
      "cell_type": "code",
      "metadata": {
        "colab": {
          "base_uri": "https://localhost:8080/"
        },
        "id": "GOZpM_tQB71Y",
        "outputId": "ec2fa0d5-06cd-4465-c65f-5fd8f318dffd"
      },
      "source": [
        "x_input=test_data[613:].reshape(1,-1)\n",
        "x_input.shape"
      ],
      "execution_count": null,
      "outputs": [
        {
          "output_type": "execute_result",
          "data": {
            "text/plain": [
              "(1, 100)"
            ]
          },
          "metadata": {
            "tags": []
          },
          "execution_count": 27
        }
      ]
    },
    {
      "cell_type": "code",
      "metadata": {
        "id": "t2pvu7ZKCJcS"
      },
      "source": [
        "#converting test data into list\n",
        "temp_input=list(x_input)\n",
        "temp_input=temp_input[0].tolist()"
      ],
      "execution_count": null,
      "outputs": []
    },
    {
      "cell_type": "code",
      "metadata": {
        "colab": {
          "base_uri": "https://localhost:8080/"
        },
        "id": "dOLrlbDoCkQX",
        "outputId": "315d4897-dc79-4530-8a31-f61183d6397e"
      },
      "source": [
        "#Demonstrate prediction for the next 30 days\n",
        "from numpy import array\n",
        "\n",
        "l_output=[]\n",
        "n_steps=100\n",
        "i=0\n",
        "while(i<30):\n",
        "  if(len(temp_input)>100):\n",
        "    x_input=np.array(temp_input[1:])\n",
        "    print(\"{} day input {}\".format(i,x_input))\n",
        "    x_input=x_input.reshape(1,-1)\n",
        "    x_input=x_input.reshape((1,n_steps,1))\n",
        "    yhat=model.predict(x_input,verbose=0)\n",
        "    print(\"{} day output {}\".format(i,yhat))\n",
        "    temp_input.extend(yhat[0].tolist())\n",
        "    temp_input=temp_input[1:]\n",
        "    l_output.extend(yhat.tolist())\n",
        "    i=i+1\n",
        "  else:\n",
        "    x_input=x_input.reshape((1,n_steps,1)) #reshaping\n",
        "    yhat=model.predict(x_input,verbose=0) #prediction\n",
        "    print(yhat[0])\n",
        "    temp_input.extend(yhat[0].tolist()) #adding yhat value to previous input\n",
        "    print(len(temp_input))\n",
        "    l_output.extend(yhat.tolist()) #adding yhat value to final output\n",
        "    i=i+1\n",
        "\n",
        "print(l_output)"
      ],
      "execution_count": null,
      "outputs": [
        {
          "output_type": "stream",
          "text": [
            "[0.62411875]\n",
            "101\n",
            "1 day input [0.86013417 0.85464525 0.84448059 0.8072779  0.71843871 0.66192316\n",
            " 0.67696686 0.67554381 0.67310429 0.68428542 0.68936776 0.70217524\n",
            " 0.71803212 0.72941655 0.73144948 0.74486684 0.76926205 0.75991055\n",
            " 0.74242732 0.73958122 0.74771295 0.75991055 0.7584875  0.76621264\n",
            " 0.75462492 0.76316324 0.79670665 0.80585485 0.7889815  0.78003659\n",
            " 0.73978451 0.73002643 0.73490547 0.74872942 0.75991055 0.75462492\n",
            " 0.75401504 0.76174019 0.7737345  0.82008538 0.80585485 0.81154706\n",
            " 0.77434438 0.78633869 0.79284407 0.78328929 0.77109169 0.74385038\n",
            " 0.71193332 0.68733482 0.67818662 0.65257166 0.64301687 0.65643423\n",
            " 0.67656028 0.67371417 0.65114861 0.65521447 0.66761537 0.67838992\n",
            " 0.69993901 0.63122586 0.63508843 0.64098394 0.64545639 0.64118723\n",
            " 0.63854442 0.63081927 0.62472047 0.6330555  0.64728603 0.6574507\n",
            " 0.66761537 0.66720878 0.64159382 0.62776987 0.63651149 0.63630819\n",
            " 0.62980281 0.62817646 0.63813783 0.65358813 0.63183574 0.57653995\n",
            " 0.57816629 0.57613336 0.61943484 0.57979264 0.57288067 0.62573694\n",
            " 0.63102257 0.6361049  0.62776987 0.6269567  0.63590161 0.62594023\n",
            " 0.6391543  0.62614353 0.62268754 0.62411875]\n",
            "1 day output [[0.62351924]]\n",
            "2 day input [0.85464525 0.84448059 0.8072779  0.71843871 0.66192316 0.67696686\n",
            " 0.67554381 0.67310429 0.68428542 0.68936776 0.70217524 0.71803212\n",
            " 0.72941655 0.73144948 0.74486684 0.76926205 0.75991055 0.74242732\n",
            " 0.73958122 0.74771295 0.75991055 0.7584875  0.76621264 0.75462492\n",
            " 0.76316324 0.79670665 0.80585485 0.7889815  0.78003659 0.73978451\n",
            " 0.73002643 0.73490547 0.74872942 0.75991055 0.75462492 0.75401504\n",
            " 0.76174019 0.7737345  0.82008538 0.80585485 0.81154706 0.77434438\n",
            " 0.78633869 0.79284407 0.78328929 0.77109169 0.74385038 0.71193332\n",
            " 0.68733482 0.67818662 0.65257166 0.64301687 0.65643423 0.67656028\n",
            " 0.67371417 0.65114861 0.65521447 0.66761537 0.67838992 0.69993901\n",
            " 0.63122586 0.63508843 0.64098394 0.64545639 0.64118723 0.63854442\n",
            " 0.63081927 0.62472047 0.6330555  0.64728603 0.6574507  0.66761537\n",
            " 0.66720878 0.64159382 0.62776987 0.63651149 0.63630819 0.62980281\n",
            " 0.62817646 0.63813783 0.65358813 0.63183574 0.57653995 0.57816629\n",
            " 0.57613336 0.61943484 0.57979264 0.57288067 0.62573694 0.63102257\n",
            " 0.6361049  0.62776987 0.6269567  0.63590161 0.62594023 0.6391543\n",
            " 0.62614353 0.62268754 0.62411875 0.62351924]\n",
            "2 day output [[0.62129533]]\n",
            "3 day input [0.84448059 0.8072779  0.71843871 0.66192316 0.67696686 0.67554381\n",
            " 0.67310429 0.68428542 0.68936776 0.70217524 0.71803212 0.72941655\n",
            " 0.73144948 0.74486684 0.76926205 0.75991055 0.74242732 0.73958122\n",
            " 0.74771295 0.75991055 0.7584875  0.76621264 0.75462492 0.76316324\n",
            " 0.79670665 0.80585485 0.7889815  0.78003659 0.73978451 0.73002643\n",
            " 0.73490547 0.74872942 0.75991055 0.75462492 0.75401504 0.76174019\n",
            " 0.7737345  0.82008538 0.80585485 0.81154706 0.77434438 0.78633869\n",
            " 0.79284407 0.78328929 0.77109169 0.74385038 0.71193332 0.68733482\n",
            " 0.67818662 0.65257166 0.64301687 0.65643423 0.67656028 0.67371417\n",
            " 0.65114861 0.65521447 0.66761537 0.67838992 0.69993901 0.63122586\n",
            " 0.63508843 0.64098394 0.64545639 0.64118723 0.63854442 0.63081927\n",
            " 0.62472047 0.6330555  0.64728603 0.6574507  0.66761537 0.66720878\n",
            " 0.64159382 0.62776987 0.63651149 0.63630819 0.62980281 0.62817646\n",
            " 0.63813783 0.65358813 0.63183574 0.57653995 0.57816629 0.57613336\n",
            " 0.61943484 0.57979264 0.57288067 0.62573694 0.63102257 0.6361049\n",
            " 0.62776987 0.6269567  0.63590161 0.62594023 0.6391543  0.62614353\n",
            " 0.62268754 0.62411875 0.62351924 0.62129533]\n",
            "3 day output [[0.61821115]]\n",
            "4 day input [0.8072779  0.71843871 0.66192316 0.67696686 0.67554381 0.67310429\n",
            " 0.68428542 0.68936776 0.70217524 0.71803212 0.72941655 0.73144948\n",
            " 0.74486684 0.76926205 0.75991055 0.74242732 0.73958122 0.74771295\n",
            " 0.75991055 0.7584875  0.76621264 0.75462492 0.76316324 0.79670665\n",
            " 0.80585485 0.7889815  0.78003659 0.73978451 0.73002643 0.73490547\n",
            " 0.74872942 0.75991055 0.75462492 0.75401504 0.76174019 0.7737345\n",
            " 0.82008538 0.80585485 0.81154706 0.77434438 0.78633869 0.79284407\n",
            " 0.78328929 0.77109169 0.74385038 0.71193332 0.68733482 0.67818662\n",
            " 0.65257166 0.64301687 0.65643423 0.67656028 0.67371417 0.65114861\n",
            " 0.65521447 0.66761537 0.67838992 0.69993901 0.63122586 0.63508843\n",
            " 0.64098394 0.64545639 0.64118723 0.63854442 0.63081927 0.62472047\n",
            " 0.6330555  0.64728603 0.6574507  0.66761537 0.66720878 0.64159382\n",
            " 0.62776987 0.63651149 0.63630819 0.62980281 0.62817646 0.63813783\n",
            " 0.65358813 0.63183574 0.57653995 0.57816629 0.57613336 0.61943484\n",
            " 0.57979264 0.57288067 0.62573694 0.63102257 0.6361049  0.62776987\n",
            " 0.6269567  0.63590161 0.62594023 0.6391543  0.62614353 0.62268754\n",
            " 0.62411875 0.62351924 0.62129533 0.61821115]\n",
            "4 day output [[0.614852]]\n",
            "5 day input [0.71843871 0.66192316 0.67696686 0.67554381 0.67310429 0.68428542\n",
            " 0.68936776 0.70217524 0.71803212 0.72941655 0.73144948 0.74486684\n",
            " 0.76926205 0.75991055 0.74242732 0.73958122 0.74771295 0.75991055\n",
            " 0.7584875  0.76621264 0.75462492 0.76316324 0.79670665 0.80585485\n",
            " 0.7889815  0.78003659 0.73978451 0.73002643 0.73490547 0.74872942\n",
            " 0.75991055 0.75462492 0.75401504 0.76174019 0.7737345  0.82008538\n",
            " 0.80585485 0.81154706 0.77434438 0.78633869 0.79284407 0.78328929\n",
            " 0.77109169 0.74385038 0.71193332 0.68733482 0.67818662 0.65257166\n",
            " 0.64301687 0.65643423 0.67656028 0.67371417 0.65114861 0.65521447\n",
            " 0.66761537 0.67838992 0.69993901 0.63122586 0.63508843 0.64098394\n",
            " 0.64545639 0.64118723 0.63854442 0.63081927 0.62472047 0.6330555\n",
            " 0.64728603 0.6574507  0.66761537 0.66720878 0.64159382 0.62776987\n",
            " 0.63651149 0.63630819 0.62980281 0.62817646 0.63813783 0.65358813\n",
            " 0.63183574 0.57653995 0.57816629 0.57613336 0.61943484 0.57979264\n",
            " 0.57288067 0.62573694 0.63102257 0.6361049  0.62776987 0.6269567\n",
            " 0.63590161 0.62594023 0.6391543  0.62614353 0.62268754 0.62411875\n",
            " 0.62351924 0.62129533 0.61821115 0.61485201]\n",
            "5 day output [[0.61162865]]\n",
            "6 day input [0.66192316 0.67696686 0.67554381 0.67310429 0.68428542 0.68936776\n",
            " 0.70217524 0.71803212 0.72941655 0.73144948 0.74486684 0.76926205\n",
            " 0.75991055 0.74242732 0.73958122 0.74771295 0.75991055 0.7584875\n",
            " 0.76621264 0.75462492 0.76316324 0.79670665 0.80585485 0.7889815\n",
            " 0.78003659 0.73978451 0.73002643 0.73490547 0.74872942 0.75991055\n",
            " 0.75462492 0.75401504 0.76174019 0.7737345  0.82008538 0.80585485\n",
            " 0.81154706 0.77434438 0.78633869 0.79284407 0.78328929 0.77109169\n",
            " 0.74385038 0.71193332 0.68733482 0.67818662 0.65257166 0.64301687\n",
            " 0.65643423 0.67656028 0.67371417 0.65114861 0.65521447 0.66761537\n",
            " 0.67838992 0.69993901 0.63122586 0.63508843 0.64098394 0.64545639\n",
            " 0.64118723 0.63854442 0.63081927 0.62472047 0.6330555  0.64728603\n",
            " 0.6574507  0.66761537 0.66720878 0.64159382 0.62776987 0.63651149\n",
            " 0.63630819 0.62980281 0.62817646 0.63813783 0.65358813 0.63183574\n",
            " 0.57653995 0.57816629 0.57613336 0.61943484 0.57979264 0.57288067\n",
            " 0.62573694 0.63102257 0.6361049  0.62776987 0.6269567  0.63590161\n",
            " 0.62594023 0.6391543  0.62614353 0.62268754 0.62411875 0.62351924\n",
            " 0.62129533 0.61821115 0.61485201 0.61162865]\n",
            "6 day output [[0.60874486]]\n",
            "7 day input [0.67696686 0.67554381 0.67310429 0.68428542 0.68936776 0.70217524\n",
            " 0.71803212 0.72941655 0.73144948 0.74486684 0.76926205 0.75991055\n",
            " 0.74242732 0.73958122 0.74771295 0.75991055 0.7584875  0.76621264\n",
            " 0.75462492 0.76316324 0.79670665 0.80585485 0.7889815  0.78003659\n",
            " 0.73978451 0.73002643 0.73490547 0.74872942 0.75991055 0.75462492\n",
            " 0.75401504 0.76174019 0.7737345  0.82008538 0.80585485 0.81154706\n",
            " 0.77434438 0.78633869 0.79284407 0.78328929 0.77109169 0.74385038\n",
            " 0.71193332 0.68733482 0.67818662 0.65257166 0.64301687 0.65643423\n",
            " 0.67656028 0.67371417 0.65114861 0.65521447 0.66761537 0.67838992\n",
            " 0.69993901 0.63122586 0.63508843 0.64098394 0.64545639 0.64118723\n",
            " 0.63854442 0.63081927 0.62472047 0.6330555  0.64728603 0.6574507\n",
            " 0.66761537 0.66720878 0.64159382 0.62776987 0.63651149 0.63630819\n",
            " 0.62980281 0.62817646 0.63813783 0.65358813 0.63183574 0.57653995\n",
            " 0.57816629 0.57613336 0.61943484 0.57979264 0.57288067 0.62573694\n",
            " 0.63102257 0.6361049  0.62776987 0.6269567  0.63590161 0.62594023\n",
            " 0.6391543  0.62614353 0.62268754 0.62411875 0.62351924 0.62129533\n",
            " 0.61821115 0.61485201 0.61162865 0.60874486]\n",
            "7 day output [[0.6062517]]\n",
            "8 day input [0.67554381 0.67310429 0.68428542 0.68936776 0.70217524 0.71803212\n",
            " 0.72941655 0.73144948 0.74486684 0.76926205 0.75991055 0.74242732\n",
            " 0.73958122 0.74771295 0.75991055 0.7584875  0.76621264 0.75462492\n",
            " 0.76316324 0.79670665 0.80585485 0.7889815  0.78003659 0.73978451\n",
            " 0.73002643 0.73490547 0.74872942 0.75991055 0.75462492 0.75401504\n",
            " 0.76174019 0.7737345  0.82008538 0.80585485 0.81154706 0.77434438\n",
            " 0.78633869 0.79284407 0.78328929 0.77109169 0.74385038 0.71193332\n",
            " 0.68733482 0.67818662 0.65257166 0.64301687 0.65643423 0.67656028\n",
            " 0.67371417 0.65114861 0.65521447 0.66761537 0.67838992 0.69993901\n",
            " 0.63122586 0.63508843 0.64098394 0.64545639 0.64118723 0.63854442\n",
            " 0.63081927 0.62472047 0.6330555  0.64728603 0.6574507  0.66761537\n",
            " 0.66720878 0.64159382 0.62776987 0.63651149 0.63630819 0.62980281\n",
            " 0.62817646 0.63813783 0.65358813 0.63183574 0.57653995 0.57816629\n",
            " 0.57613336 0.61943484 0.57979264 0.57288067 0.62573694 0.63102257\n",
            " 0.6361049  0.62776987 0.6269567  0.63590161 0.62594023 0.6391543\n",
            " 0.62614353 0.62268754 0.62411875 0.62351924 0.62129533 0.61821115\n",
            " 0.61485201 0.61162865 0.60874486 0.60625172]\n",
            "8 day output [[0.6041255]]\n",
            "9 day input [0.67310429 0.68428542 0.68936776 0.70217524 0.71803212 0.72941655\n",
            " 0.73144948 0.74486684 0.76926205 0.75991055 0.74242732 0.73958122\n",
            " 0.74771295 0.75991055 0.7584875  0.76621264 0.75462492 0.76316324\n",
            " 0.79670665 0.80585485 0.7889815  0.78003659 0.73978451 0.73002643\n",
            " 0.73490547 0.74872942 0.75991055 0.75462492 0.75401504 0.76174019\n",
            " 0.7737345  0.82008538 0.80585485 0.81154706 0.77434438 0.78633869\n",
            " 0.79284407 0.78328929 0.77109169 0.74385038 0.71193332 0.68733482\n",
            " 0.67818662 0.65257166 0.64301687 0.65643423 0.67656028 0.67371417\n",
            " 0.65114861 0.65521447 0.66761537 0.67838992 0.69993901 0.63122586\n",
            " 0.63508843 0.64098394 0.64545639 0.64118723 0.63854442 0.63081927\n",
            " 0.62472047 0.6330555  0.64728603 0.6574507  0.66761537 0.66720878\n",
            " 0.64159382 0.62776987 0.63651149 0.63630819 0.62980281 0.62817646\n",
            " 0.63813783 0.65358813 0.63183574 0.57653995 0.57816629 0.57613336\n",
            " 0.61943484 0.57979264 0.57288067 0.62573694 0.63102257 0.6361049\n",
            " 0.62776987 0.6269567  0.63590161 0.62594023 0.6391543  0.62614353\n",
            " 0.62268754 0.62411875 0.62351924 0.62129533 0.61821115 0.61485201\n",
            " 0.61162865 0.60874486 0.60625172 0.6041255 ]\n",
            "9 day output [[0.60232645]]\n",
            "10 day input [0.68428542 0.68936776 0.70217524 0.71803212 0.72941655 0.73144948\n",
            " 0.74486684 0.76926205 0.75991055 0.74242732 0.73958122 0.74771295\n",
            " 0.75991055 0.7584875  0.76621264 0.75462492 0.76316324 0.79670665\n",
            " 0.80585485 0.7889815  0.78003659 0.73978451 0.73002643 0.73490547\n",
            " 0.74872942 0.75991055 0.75462492 0.75401504 0.76174019 0.7737345\n",
            " 0.82008538 0.80585485 0.81154706 0.77434438 0.78633869 0.79284407\n",
            " 0.78328929 0.77109169 0.74385038 0.71193332 0.68733482 0.67818662\n",
            " 0.65257166 0.64301687 0.65643423 0.67656028 0.67371417 0.65114861\n",
            " 0.65521447 0.66761537 0.67838992 0.69993901 0.63122586 0.63508843\n",
            " 0.64098394 0.64545639 0.64118723 0.63854442 0.63081927 0.62472047\n",
            " 0.6330555  0.64728603 0.6574507  0.66761537 0.66720878 0.64159382\n",
            " 0.62776987 0.63651149 0.63630819 0.62980281 0.62817646 0.63813783\n",
            " 0.65358813 0.63183574 0.57653995 0.57816629 0.57613336 0.61943484\n",
            " 0.57979264 0.57288067 0.62573694 0.63102257 0.6361049  0.62776987\n",
            " 0.6269567  0.63590161 0.62594023 0.6391543  0.62614353 0.62268754\n",
            " 0.62411875 0.62351924 0.62129533 0.61821115 0.61485201 0.61162865\n",
            " 0.60874486 0.60625172 0.6041255  0.60232645]\n",
            "10 day output [[0.60082775]]\n",
            "11 day input [0.68936776 0.70217524 0.71803212 0.72941655 0.73144948 0.74486684\n",
            " 0.76926205 0.75991055 0.74242732 0.73958122 0.74771295 0.75991055\n",
            " 0.7584875  0.76621264 0.75462492 0.76316324 0.79670665 0.80585485\n",
            " 0.7889815  0.78003659 0.73978451 0.73002643 0.73490547 0.74872942\n",
            " 0.75991055 0.75462492 0.75401504 0.76174019 0.7737345  0.82008538\n",
            " 0.80585485 0.81154706 0.77434438 0.78633869 0.79284407 0.78328929\n",
            " 0.77109169 0.74385038 0.71193332 0.68733482 0.67818662 0.65257166\n",
            " 0.64301687 0.65643423 0.67656028 0.67371417 0.65114861 0.65521447\n",
            " 0.66761537 0.67838992 0.69993901 0.63122586 0.63508843 0.64098394\n",
            " 0.64545639 0.64118723 0.63854442 0.63081927 0.62472047 0.6330555\n",
            " 0.64728603 0.6574507  0.66761537 0.66720878 0.64159382 0.62776987\n",
            " 0.63651149 0.63630819 0.62980281 0.62817646 0.63813783 0.65358813\n",
            " 0.63183574 0.57653995 0.57816629 0.57613336 0.61943484 0.57979264\n",
            " 0.57288067 0.62573694 0.63102257 0.6361049  0.62776987 0.6269567\n",
            " 0.63590161 0.62594023 0.6391543  0.62614353 0.62268754 0.62411875\n",
            " 0.62351924 0.62129533 0.61821115 0.61485201 0.61162865 0.60874486\n",
            " 0.60625172 0.6041255  0.60232645 0.60082775]\n",
            "11 day output [[0.59961843]]\n",
            "12 day input [0.70217524 0.71803212 0.72941655 0.73144948 0.74486684 0.76926205\n",
            " 0.75991055 0.74242732 0.73958122 0.74771295 0.75991055 0.7584875\n",
            " 0.76621264 0.75462492 0.76316324 0.79670665 0.80585485 0.7889815\n",
            " 0.78003659 0.73978451 0.73002643 0.73490547 0.74872942 0.75991055\n",
            " 0.75462492 0.75401504 0.76174019 0.7737345  0.82008538 0.80585485\n",
            " 0.81154706 0.77434438 0.78633869 0.79284407 0.78328929 0.77109169\n",
            " 0.74385038 0.71193332 0.68733482 0.67818662 0.65257166 0.64301687\n",
            " 0.65643423 0.67656028 0.67371417 0.65114861 0.65521447 0.66761537\n",
            " 0.67838992 0.69993901 0.63122586 0.63508843 0.64098394 0.64545639\n",
            " 0.64118723 0.63854442 0.63081927 0.62472047 0.6330555  0.64728603\n",
            " 0.6574507  0.66761537 0.66720878 0.64159382 0.62776987 0.63651149\n",
            " 0.63630819 0.62980281 0.62817646 0.63813783 0.65358813 0.63183574\n",
            " 0.57653995 0.57816629 0.57613336 0.61943484 0.57979264 0.57288067\n",
            " 0.62573694 0.63102257 0.6361049  0.62776987 0.6269567  0.63590161\n",
            " 0.62594023 0.6391543  0.62614353 0.62268754 0.62411875 0.62351924\n",
            " 0.62129533 0.61821115 0.61485201 0.61162865 0.60874486 0.60625172\n",
            " 0.6041255  0.60232645 0.60082775 0.59961843]\n",
            "12 day output [[0.59869474]]\n",
            "13 day input [0.71803212 0.72941655 0.73144948 0.74486684 0.76926205 0.75991055\n",
            " 0.74242732 0.73958122 0.74771295 0.75991055 0.7584875  0.76621264\n",
            " 0.75462492 0.76316324 0.79670665 0.80585485 0.7889815  0.78003659\n",
            " 0.73978451 0.73002643 0.73490547 0.74872942 0.75991055 0.75462492\n",
            " 0.75401504 0.76174019 0.7737345  0.82008538 0.80585485 0.81154706\n",
            " 0.77434438 0.78633869 0.79284407 0.78328929 0.77109169 0.74385038\n",
            " 0.71193332 0.68733482 0.67818662 0.65257166 0.64301687 0.65643423\n",
            " 0.67656028 0.67371417 0.65114861 0.65521447 0.66761537 0.67838992\n",
            " 0.69993901 0.63122586 0.63508843 0.64098394 0.64545639 0.64118723\n",
            " 0.63854442 0.63081927 0.62472047 0.6330555  0.64728603 0.6574507\n",
            " 0.66761537 0.66720878 0.64159382 0.62776987 0.63651149 0.63630819\n",
            " 0.62980281 0.62817646 0.63813783 0.65358813 0.63183574 0.57653995\n",
            " 0.57816629 0.57613336 0.61943484 0.57979264 0.57288067 0.62573694\n",
            " 0.63102257 0.6361049  0.62776987 0.6269567  0.63590161 0.62594023\n",
            " 0.6391543  0.62614353 0.62268754 0.62411875 0.62351924 0.62129533\n",
            " 0.61821115 0.61485201 0.61162865 0.60874486 0.60625172 0.6041255\n",
            " 0.60232645 0.60082775 0.59961843 0.59869474]\n",
            "13 day output [[0.5980495]]\n",
            "14 day input [0.72941655 0.73144948 0.74486684 0.76926205 0.75991055 0.74242732\n",
            " 0.73958122 0.74771295 0.75991055 0.7584875  0.76621264 0.75462492\n",
            " 0.76316324 0.79670665 0.80585485 0.7889815  0.78003659 0.73978451\n",
            " 0.73002643 0.73490547 0.74872942 0.75991055 0.75462492 0.75401504\n",
            " 0.76174019 0.7737345  0.82008538 0.80585485 0.81154706 0.77434438\n",
            " 0.78633869 0.79284407 0.78328929 0.77109169 0.74385038 0.71193332\n",
            " 0.68733482 0.67818662 0.65257166 0.64301687 0.65643423 0.67656028\n",
            " 0.67371417 0.65114861 0.65521447 0.66761537 0.67838992 0.69993901\n",
            " 0.63122586 0.63508843 0.64098394 0.64545639 0.64118723 0.63854442\n",
            " 0.63081927 0.62472047 0.6330555  0.64728603 0.6574507  0.66761537\n",
            " 0.66720878 0.64159382 0.62776987 0.63651149 0.63630819 0.62980281\n",
            " 0.62817646 0.63813783 0.65358813 0.63183574 0.57653995 0.57816629\n",
            " 0.57613336 0.61943484 0.57979264 0.57288067 0.62573694 0.63102257\n",
            " 0.6361049  0.62776987 0.6269567  0.63590161 0.62594023 0.6391543\n",
            " 0.62614353 0.62268754 0.62411875 0.62351924 0.62129533 0.61821115\n",
            " 0.61485201 0.61162865 0.60874486 0.60625172 0.6041255  0.60232645\n",
            " 0.60082775 0.59961843 0.59869474 0.59804952]\n",
            "14 day output [[0.5976663]]\n",
            "15 day input [0.73144948 0.74486684 0.76926205 0.75991055 0.74242732 0.73958122\n",
            " 0.74771295 0.75991055 0.7584875  0.76621264 0.75462492 0.76316324\n",
            " 0.79670665 0.80585485 0.7889815  0.78003659 0.73978451 0.73002643\n",
            " 0.73490547 0.74872942 0.75991055 0.75462492 0.75401504 0.76174019\n",
            " 0.7737345  0.82008538 0.80585485 0.81154706 0.77434438 0.78633869\n",
            " 0.79284407 0.78328929 0.77109169 0.74385038 0.71193332 0.68733482\n",
            " 0.67818662 0.65257166 0.64301687 0.65643423 0.67656028 0.67371417\n",
            " 0.65114861 0.65521447 0.66761537 0.67838992 0.69993901 0.63122586\n",
            " 0.63508843 0.64098394 0.64545639 0.64118723 0.63854442 0.63081927\n",
            " 0.62472047 0.6330555  0.64728603 0.6574507  0.66761537 0.66720878\n",
            " 0.64159382 0.62776987 0.63651149 0.63630819 0.62980281 0.62817646\n",
            " 0.63813783 0.65358813 0.63183574 0.57653995 0.57816629 0.57613336\n",
            " 0.61943484 0.57979264 0.57288067 0.62573694 0.63102257 0.6361049\n",
            " 0.62776987 0.6269567  0.63590161 0.62594023 0.6391543  0.62614353\n",
            " 0.62268754 0.62411875 0.62351924 0.62129533 0.61821115 0.61485201\n",
            " 0.61162865 0.60874486 0.60625172 0.6041255  0.60232645 0.60082775\n",
            " 0.59961843 0.59869474 0.59804952 0.59766632]\n",
            "15 day output [[0.5975181]]\n",
            "16 day input [0.74486684 0.76926205 0.75991055 0.74242732 0.73958122 0.74771295\n",
            " 0.75991055 0.7584875  0.76621264 0.75462492 0.76316324 0.79670665\n",
            " 0.80585485 0.7889815  0.78003659 0.73978451 0.73002643 0.73490547\n",
            " 0.74872942 0.75991055 0.75462492 0.75401504 0.76174019 0.7737345\n",
            " 0.82008538 0.80585485 0.81154706 0.77434438 0.78633869 0.79284407\n",
            " 0.78328929 0.77109169 0.74385038 0.71193332 0.68733482 0.67818662\n",
            " 0.65257166 0.64301687 0.65643423 0.67656028 0.67371417 0.65114861\n",
            " 0.65521447 0.66761537 0.67838992 0.69993901 0.63122586 0.63508843\n",
            " 0.64098394 0.64545639 0.64118723 0.63854442 0.63081927 0.62472047\n",
            " 0.6330555  0.64728603 0.6574507  0.66761537 0.66720878 0.64159382\n",
            " 0.62776987 0.63651149 0.63630819 0.62980281 0.62817646 0.63813783\n",
            " 0.65358813 0.63183574 0.57653995 0.57816629 0.57613336 0.61943484\n",
            " 0.57979264 0.57288067 0.62573694 0.63102257 0.6361049  0.62776987\n",
            " 0.6269567  0.63590161 0.62594023 0.6391543  0.62614353 0.62268754\n",
            " 0.62411875 0.62351924 0.62129533 0.61821115 0.61485201 0.61162865\n",
            " 0.60874486 0.60625172 0.6041255  0.60232645 0.60082775 0.59961843\n",
            " 0.59869474 0.59804952 0.59766632 0.59751809]\n",
            "16 day output [[0.5975698]]\n",
            "17 day input [0.76926205 0.75991055 0.74242732 0.73958122 0.74771295 0.75991055\n",
            " 0.7584875  0.76621264 0.75462492 0.76316324 0.79670665 0.80585485\n",
            " 0.7889815  0.78003659 0.73978451 0.73002643 0.73490547 0.74872942\n",
            " 0.75991055 0.75462492 0.75401504 0.76174019 0.7737345  0.82008538\n",
            " 0.80585485 0.81154706 0.77434438 0.78633869 0.79284407 0.78328929\n",
            " 0.77109169 0.74385038 0.71193332 0.68733482 0.67818662 0.65257166\n",
            " 0.64301687 0.65643423 0.67656028 0.67371417 0.65114861 0.65521447\n",
            " 0.66761537 0.67838992 0.69993901 0.63122586 0.63508843 0.64098394\n",
            " 0.64545639 0.64118723 0.63854442 0.63081927 0.62472047 0.6330555\n",
            " 0.64728603 0.6574507  0.66761537 0.66720878 0.64159382 0.62776987\n",
            " 0.63651149 0.63630819 0.62980281 0.62817646 0.63813783 0.65358813\n",
            " 0.63183574 0.57653995 0.57816629 0.57613336 0.61943484 0.57979264\n",
            " 0.57288067 0.62573694 0.63102257 0.6361049  0.62776987 0.6269567\n",
            " 0.63590161 0.62594023 0.6391543  0.62614353 0.62268754 0.62411875\n",
            " 0.62351924 0.62129533 0.61821115 0.61485201 0.61162865 0.60874486\n",
            " 0.60625172 0.6041255  0.60232645 0.60082775 0.59961843 0.59869474\n",
            " 0.59804952 0.59766632 0.59751809 0.59756982]\n",
            "17 day output [[0.5977816]]\n",
            "18 day input [0.75991055 0.74242732 0.73958122 0.74771295 0.75991055 0.7584875\n",
            " 0.76621264 0.75462492 0.76316324 0.79670665 0.80585485 0.7889815\n",
            " 0.78003659 0.73978451 0.73002643 0.73490547 0.74872942 0.75991055\n",
            " 0.75462492 0.75401504 0.76174019 0.7737345  0.82008538 0.80585485\n",
            " 0.81154706 0.77434438 0.78633869 0.79284407 0.78328929 0.77109169\n",
            " 0.74385038 0.71193332 0.68733482 0.67818662 0.65257166 0.64301687\n",
            " 0.65643423 0.67656028 0.67371417 0.65114861 0.65521447 0.66761537\n",
            " 0.67838992 0.69993901 0.63122586 0.63508843 0.64098394 0.64545639\n",
            " 0.64118723 0.63854442 0.63081927 0.62472047 0.6330555  0.64728603\n",
            " 0.6574507  0.66761537 0.66720878 0.64159382 0.62776987 0.63651149\n",
            " 0.63630819 0.62980281 0.62817646 0.63813783 0.65358813 0.63183574\n",
            " 0.57653995 0.57816629 0.57613336 0.61943484 0.57979264 0.57288067\n",
            " 0.62573694 0.63102257 0.6361049  0.62776987 0.6269567  0.63590161\n",
            " 0.62594023 0.6391543  0.62614353 0.62268754 0.62411875 0.62351924\n",
            " 0.62129533 0.61821115 0.61485201 0.61162865 0.60874486 0.60625172\n",
            " 0.6041255  0.60232645 0.60082775 0.59961843 0.59869474 0.59804952\n",
            " 0.59766632 0.59751809 0.59756982 0.5977816 ]\n",
            "18 day output [[0.59811264]]\n",
            "19 day input [0.74242732 0.73958122 0.74771295 0.75991055 0.7584875  0.76621264\n",
            " 0.75462492 0.76316324 0.79670665 0.80585485 0.7889815  0.78003659\n",
            " 0.73978451 0.73002643 0.73490547 0.74872942 0.75991055 0.75462492\n",
            " 0.75401504 0.76174019 0.7737345  0.82008538 0.80585485 0.81154706\n",
            " 0.77434438 0.78633869 0.79284407 0.78328929 0.77109169 0.74385038\n",
            " 0.71193332 0.68733482 0.67818662 0.65257166 0.64301687 0.65643423\n",
            " 0.67656028 0.67371417 0.65114861 0.65521447 0.66761537 0.67838992\n",
            " 0.69993901 0.63122586 0.63508843 0.64098394 0.64545639 0.64118723\n",
            " 0.63854442 0.63081927 0.62472047 0.6330555  0.64728603 0.6574507\n",
            " 0.66761537 0.66720878 0.64159382 0.62776987 0.63651149 0.63630819\n",
            " 0.62980281 0.62817646 0.63813783 0.65358813 0.63183574 0.57653995\n",
            " 0.57816629 0.57613336 0.61943484 0.57979264 0.57288067 0.62573694\n",
            " 0.63102257 0.6361049  0.62776987 0.6269567  0.63590161 0.62594023\n",
            " 0.6391543  0.62614353 0.62268754 0.62411875 0.62351924 0.62129533\n",
            " 0.61821115 0.61485201 0.61162865 0.60874486 0.60625172 0.6041255\n",
            " 0.60232645 0.60082775 0.59961843 0.59869474 0.59804952 0.59766632\n",
            " 0.59751809 0.59756982 0.5977816  0.59811264]\n",
            "19 day output [[0.59852415]]\n",
            "20 day input [0.73958122 0.74771295 0.75991055 0.7584875  0.76621264 0.75462492\n",
            " 0.76316324 0.79670665 0.80585485 0.7889815  0.78003659 0.73978451\n",
            " 0.73002643 0.73490547 0.74872942 0.75991055 0.75462492 0.75401504\n",
            " 0.76174019 0.7737345  0.82008538 0.80585485 0.81154706 0.77434438\n",
            " 0.78633869 0.79284407 0.78328929 0.77109169 0.74385038 0.71193332\n",
            " 0.68733482 0.67818662 0.65257166 0.64301687 0.65643423 0.67656028\n",
            " 0.67371417 0.65114861 0.65521447 0.66761537 0.67838992 0.69993901\n",
            " 0.63122586 0.63508843 0.64098394 0.64545639 0.64118723 0.63854442\n",
            " 0.63081927 0.62472047 0.6330555  0.64728603 0.6574507  0.66761537\n",
            " 0.66720878 0.64159382 0.62776987 0.63651149 0.63630819 0.62980281\n",
            " 0.62817646 0.63813783 0.65358813 0.63183574 0.57653995 0.57816629\n",
            " 0.57613336 0.61943484 0.57979264 0.57288067 0.62573694 0.63102257\n",
            " 0.6361049  0.62776987 0.6269567  0.63590161 0.62594023 0.6391543\n",
            " 0.62614353 0.62268754 0.62411875 0.62351924 0.62129533 0.61821115\n",
            " 0.61485201 0.61162865 0.60874486 0.60625172 0.6041255  0.60232645\n",
            " 0.60082775 0.59961843 0.59869474 0.59804952 0.59766632 0.59751809\n",
            " 0.59756982 0.5977816  0.59811264 0.59852415]\n",
            "20 day output [[0.59898096]]\n",
            "21 day input [0.74771295 0.75991055 0.7584875  0.76621264 0.75462492 0.76316324\n",
            " 0.79670665 0.80585485 0.7889815  0.78003659 0.73978451 0.73002643\n",
            " 0.73490547 0.74872942 0.75991055 0.75462492 0.75401504 0.76174019\n",
            " 0.7737345  0.82008538 0.80585485 0.81154706 0.77434438 0.78633869\n",
            " 0.79284407 0.78328929 0.77109169 0.74385038 0.71193332 0.68733482\n",
            " 0.67818662 0.65257166 0.64301687 0.65643423 0.67656028 0.67371417\n",
            " 0.65114861 0.65521447 0.66761537 0.67838992 0.69993901 0.63122586\n",
            " 0.63508843 0.64098394 0.64545639 0.64118723 0.63854442 0.63081927\n",
            " 0.62472047 0.6330555  0.64728603 0.6574507  0.66761537 0.66720878\n",
            " 0.64159382 0.62776987 0.63651149 0.63630819 0.62980281 0.62817646\n",
            " 0.63813783 0.65358813 0.63183574 0.57653995 0.57816629 0.57613336\n",
            " 0.61943484 0.57979264 0.57288067 0.62573694 0.63102257 0.6361049\n",
            " 0.62776987 0.6269567  0.63590161 0.62594023 0.6391543  0.62614353\n",
            " 0.62268754 0.62411875 0.62351924 0.62129533 0.61821115 0.61485201\n",
            " 0.61162865 0.60874486 0.60625172 0.6041255  0.60232645 0.60082775\n",
            " 0.59961843 0.59869474 0.59804952 0.59766632 0.59751809 0.59756982\n",
            " 0.5977816  0.59811264 0.59852415 0.59898096]\n",
            "21 day output [[0.5994516]]\n",
            "22 day input [0.75991055 0.7584875  0.76621264 0.75462492 0.76316324 0.79670665\n",
            " 0.80585485 0.7889815  0.78003659 0.73978451 0.73002643 0.73490547\n",
            " 0.74872942 0.75991055 0.75462492 0.75401504 0.76174019 0.7737345\n",
            " 0.82008538 0.80585485 0.81154706 0.77434438 0.78633869 0.79284407\n",
            " 0.78328929 0.77109169 0.74385038 0.71193332 0.68733482 0.67818662\n",
            " 0.65257166 0.64301687 0.65643423 0.67656028 0.67371417 0.65114861\n",
            " 0.65521447 0.66761537 0.67838992 0.69993901 0.63122586 0.63508843\n",
            " 0.64098394 0.64545639 0.64118723 0.63854442 0.63081927 0.62472047\n",
            " 0.6330555  0.64728603 0.6574507  0.66761537 0.66720878 0.64159382\n",
            " 0.62776987 0.63651149 0.63630819 0.62980281 0.62817646 0.63813783\n",
            " 0.65358813 0.63183574 0.57653995 0.57816629 0.57613336 0.61943484\n",
            " 0.57979264 0.57288067 0.62573694 0.63102257 0.6361049  0.62776987\n",
            " 0.6269567  0.63590161 0.62594023 0.6391543  0.62614353 0.62268754\n",
            " 0.62411875 0.62351924 0.62129533 0.61821115 0.61485201 0.61162865\n",
            " 0.60874486 0.60625172 0.6041255  0.60232645 0.60082775 0.59961843\n",
            " 0.59869474 0.59804952 0.59766632 0.59751809 0.59756982 0.5977816\n",
            " 0.59811264 0.59852415 0.59898096 0.5994516 ]\n",
            "22 day output [[0.5999089]]\n",
            "23 day input [0.7584875  0.76621264 0.75462492 0.76316324 0.79670665 0.80585485\n",
            " 0.7889815  0.78003659 0.73978451 0.73002643 0.73490547 0.74872942\n",
            " 0.75991055 0.75462492 0.75401504 0.76174019 0.7737345  0.82008538\n",
            " 0.80585485 0.81154706 0.77434438 0.78633869 0.79284407 0.78328929\n",
            " 0.77109169 0.74385038 0.71193332 0.68733482 0.67818662 0.65257166\n",
            " 0.64301687 0.65643423 0.67656028 0.67371417 0.65114861 0.65521447\n",
            " 0.66761537 0.67838992 0.69993901 0.63122586 0.63508843 0.64098394\n",
            " 0.64545639 0.64118723 0.63854442 0.63081927 0.62472047 0.6330555\n",
            " 0.64728603 0.6574507  0.66761537 0.66720878 0.64159382 0.62776987\n",
            " 0.63651149 0.63630819 0.62980281 0.62817646 0.63813783 0.65358813\n",
            " 0.63183574 0.57653995 0.57816629 0.57613336 0.61943484 0.57979264\n",
            " 0.57288067 0.62573694 0.63102257 0.6361049  0.62776987 0.6269567\n",
            " 0.63590161 0.62594023 0.6391543  0.62614353 0.62268754 0.62411875\n",
            " 0.62351924 0.62129533 0.61821115 0.61485201 0.61162865 0.60874486\n",
            " 0.60625172 0.6041255  0.60232645 0.60082775 0.59961843 0.59869474\n",
            " 0.59804952 0.59766632 0.59751809 0.59756982 0.5977816  0.59811264\n",
            " 0.59852415 0.59898096 0.5994516  0.59990889]\n",
            "23 day output [[0.60033095]]\n",
            "24 day input [0.76621264 0.75462492 0.76316324 0.79670665 0.80585485 0.7889815\n",
            " 0.78003659 0.73978451 0.73002643 0.73490547 0.74872942 0.75991055\n",
            " 0.75462492 0.75401504 0.76174019 0.7737345  0.82008538 0.80585485\n",
            " 0.81154706 0.77434438 0.78633869 0.79284407 0.78328929 0.77109169\n",
            " 0.74385038 0.71193332 0.68733482 0.67818662 0.65257166 0.64301687\n",
            " 0.65643423 0.67656028 0.67371417 0.65114861 0.65521447 0.66761537\n",
            " 0.67838992 0.69993901 0.63122586 0.63508843 0.64098394 0.64545639\n",
            " 0.64118723 0.63854442 0.63081927 0.62472047 0.6330555  0.64728603\n",
            " 0.6574507  0.66761537 0.66720878 0.64159382 0.62776987 0.63651149\n",
            " 0.63630819 0.62980281 0.62817646 0.63813783 0.65358813 0.63183574\n",
            " 0.57653995 0.57816629 0.57613336 0.61943484 0.57979264 0.57288067\n",
            " 0.62573694 0.63102257 0.6361049  0.62776987 0.6269567  0.63590161\n",
            " 0.62594023 0.6391543  0.62614353 0.62268754 0.62411875 0.62351924\n",
            " 0.62129533 0.61821115 0.61485201 0.61162865 0.60874486 0.60625172\n",
            " 0.6041255  0.60232645 0.60082775 0.59961843 0.59869474 0.59804952\n",
            " 0.59766632 0.59751809 0.59756982 0.5977816  0.59811264 0.59852415\n",
            " 0.59898096 0.5994516  0.59990889 0.60033095]\n",
            "24 day output [[0.60069954]]\n",
            "25 day input [0.75462492 0.76316324 0.79670665 0.80585485 0.7889815  0.78003659\n",
            " 0.73978451 0.73002643 0.73490547 0.74872942 0.75991055 0.75462492\n",
            " 0.75401504 0.76174019 0.7737345  0.82008538 0.80585485 0.81154706\n",
            " 0.77434438 0.78633869 0.79284407 0.78328929 0.77109169 0.74385038\n",
            " 0.71193332 0.68733482 0.67818662 0.65257166 0.64301687 0.65643423\n",
            " 0.67656028 0.67371417 0.65114861 0.65521447 0.66761537 0.67838992\n",
            " 0.69993901 0.63122586 0.63508843 0.64098394 0.64545639 0.64118723\n",
            " 0.63854442 0.63081927 0.62472047 0.6330555  0.64728603 0.6574507\n",
            " 0.66761537 0.66720878 0.64159382 0.62776987 0.63651149 0.63630819\n",
            " 0.62980281 0.62817646 0.63813783 0.65358813 0.63183574 0.57653995\n",
            " 0.57816629 0.57613336 0.61943484 0.57979264 0.57288067 0.62573694\n",
            " 0.63102257 0.6361049  0.62776987 0.6269567  0.63590161 0.62594023\n",
            " 0.6391543  0.62614353 0.62268754 0.62411875 0.62351924 0.62129533\n",
            " 0.61821115 0.61485201 0.61162865 0.60874486 0.60625172 0.6041255\n",
            " 0.60232645 0.60082775 0.59961843 0.59869474 0.59804952 0.59766632\n",
            " 0.59751809 0.59756982 0.5977816  0.59811264 0.59852415 0.59898096\n",
            " 0.5994516  0.59990889 0.60033095 0.60069954]\n",
            "25 day output [[0.6010015]]\n",
            "26 day input [0.76316324 0.79670665 0.80585485 0.7889815  0.78003659 0.73978451\n",
            " 0.73002643 0.73490547 0.74872942 0.75991055 0.75462492 0.75401504\n",
            " 0.76174019 0.7737345  0.82008538 0.80585485 0.81154706 0.77434438\n",
            " 0.78633869 0.79284407 0.78328929 0.77109169 0.74385038 0.71193332\n",
            " 0.68733482 0.67818662 0.65257166 0.64301687 0.65643423 0.67656028\n",
            " 0.67371417 0.65114861 0.65521447 0.66761537 0.67838992 0.69993901\n",
            " 0.63122586 0.63508843 0.64098394 0.64545639 0.64118723 0.63854442\n",
            " 0.63081927 0.62472047 0.6330555  0.64728603 0.6574507  0.66761537\n",
            " 0.66720878 0.64159382 0.62776987 0.63651149 0.63630819 0.62980281\n",
            " 0.62817646 0.63813783 0.65358813 0.63183574 0.57653995 0.57816629\n",
            " 0.57613336 0.61943484 0.57979264 0.57288067 0.62573694 0.63102257\n",
            " 0.6361049  0.62776987 0.6269567  0.63590161 0.62594023 0.6391543\n",
            " 0.62614353 0.62268754 0.62411875 0.62351924 0.62129533 0.61821115\n",
            " 0.61485201 0.61162865 0.60874486 0.60625172 0.6041255  0.60232645\n",
            " 0.60082775 0.59961843 0.59869474 0.59804952 0.59766632 0.59751809\n",
            " 0.59756982 0.5977816  0.59811264 0.59852415 0.59898096 0.5994516\n",
            " 0.59990889 0.60033095 0.60069954 0.6010015 ]\n",
            "26 day output [[0.60122776]]\n",
            "27 day input [0.79670665 0.80585485 0.7889815  0.78003659 0.73978451 0.73002643\n",
            " 0.73490547 0.74872942 0.75991055 0.75462492 0.75401504 0.76174019\n",
            " 0.7737345  0.82008538 0.80585485 0.81154706 0.77434438 0.78633869\n",
            " 0.79284407 0.78328929 0.77109169 0.74385038 0.71193332 0.68733482\n",
            " 0.67818662 0.65257166 0.64301687 0.65643423 0.67656028 0.67371417\n",
            " 0.65114861 0.65521447 0.66761537 0.67838992 0.69993901 0.63122586\n",
            " 0.63508843 0.64098394 0.64545639 0.64118723 0.63854442 0.63081927\n",
            " 0.62472047 0.6330555  0.64728603 0.6574507  0.66761537 0.66720878\n",
            " 0.64159382 0.62776987 0.63651149 0.63630819 0.62980281 0.62817646\n",
            " 0.63813783 0.65358813 0.63183574 0.57653995 0.57816629 0.57613336\n",
            " 0.61943484 0.57979264 0.57288067 0.62573694 0.63102257 0.6361049\n",
            " 0.62776987 0.6269567  0.63590161 0.62594023 0.6391543  0.62614353\n",
            " 0.62268754 0.62411875 0.62351924 0.62129533 0.61821115 0.61485201\n",
            " 0.61162865 0.60874486 0.60625172 0.6041255  0.60232645 0.60082775\n",
            " 0.59961843 0.59869474 0.59804952 0.59766632 0.59751809 0.59756982\n",
            " 0.5977816  0.59811264 0.59852415 0.59898096 0.5994516  0.59990889\n",
            " 0.60033095 0.60069954 0.6010015  0.60122776]\n",
            "27 day output [[0.6013739]]\n",
            "28 day input [0.80585485 0.7889815  0.78003659 0.73978451 0.73002643 0.73490547\n",
            " 0.74872942 0.75991055 0.75462492 0.75401504 0.76174019 0.7737345\n",
            " 0.82008538 0.80585485 0.81154706 0.77434438 0.78633869 0.79284407\n",
            " 0.78328929 0.77109169 0.74385038 0.71193332 0.68733482 0.67818662\n",
            " 0.65257166 0.64301687 0.65643423 0.67656028 0.67371417 0.65114861\n",
            " 0.65521447 0.66761537 0.67838992 0.69993901 0.63122586 0.63508843\n",
            " 0.64098394 0.64545639 0.64118723 0.63854442 0.63081927 0.62472047\n",
            " 0.6330555  0.64728603 0.6574507  0.66761537 0.66720878 0.64159382\n",
            " 0.62776987 0.63651149 0.63630819 0.62980281 0.62817646 0.63813783\n",
            " 0.65358813 0.63183574 0.57653995 0.57816629 0.57613336 0.61943484\n",
            " 0.57979264 0.57288067 0.62573694 0.63102257 0.6361049  0.62776987\n",
            " 0.6269567  0.63590161 0.62594023 0.6391543  0.62614353 0.62268754\n",
            " 0.62411875 0.62351924 0.62129533 0.61821115 0.61485201 0.61162865\n",
            " 0.60874486 0.60625172 0.6041255  0.60232645 0.60082775 0.59961843\n",
            " 0.59869474 0.59804952 0.59766632 0.59751809 0.59756982 0.5977816\n",
            " 0.59811264 0.59852415 0.59898096 0.5994516  0.59990889 0.60033095\n",
            " 0.60069954 0.6010015  0.60122776 0.60137391]\n",
            "28 day output [[0.6014395]]\n",
            "29 day input [0.7889815  0.78003659 0.73978451 0.73002643 0.73490547 0.74872942\n",
            " 0.75991055 0.75462492 0.75401504 0.76174019 0.7737345  0.82008538\n",
            " 0.80585485 0.81154706 0.77434438 0.78633869 0.79284407 0.78328929\n",
            " 0.77109169 0.74385038 0.71193332 0.68733482 0.67818662 0.65257166\n",
            " 0.64301687 0.65643423 0.67656028 0.67371417 0.65114861 0.65521447\n",
            " 0.66761537 0.67838992 0.69993901 0.63122586 0.63508843 0.64098394\n",
            " 0.64545639 0.64118723 0.63854442 0.63081927 0.62472047 0.6330555\n",
            " 0.64728603 0.6574507  0.66761537 0.66720878 0.64159382 0.62776987\n",
            " 0.63651149 0.63630819 0.62980281 0.62817646 0.63813783 0.65358813\n",
            " 0.63183574 0.57653995 0.57816629 0.57613336 0.61943484 0.57979264\n",
            " 0.57288067 0.62573694 0.63102257 0.6361049  0.62776987 0.6269567\n",
            " 0.63590161 0.62594023 0.6391543  0.62614353 0.62268754 0.62411875\n",
            " 0.62351924 0.62129533 0.61821115 0.61485201 0.61162865 0.60874486\n",
            " 0.60625172 0.6041255  0.60232645 0.60082775 0.59961843 0.59869474\n",
            " 0.59804952 0.59766632 0.59751809 0.59756982 0.5977816  0.59811264\n",
            " 0.59852415 0.59898096 0.5994516  0.59990889 0.60033095 0.60069954\n",
            " 0.6010015  0.60122776 0.60137391 0.60143948]\n",
            "29 day output [[0.60142756]]\n",
            "[[0.6241187453269958], [0.623519241809845], [0.6212953329086304], [0.6182111501693726], [0.6148520112037659], [0.6116286516189575], [0.6087448596954346], [0.6062517166137695], [0.6041254997253418], [0.6023264527320862], [0.6008277535438538], [0.5996184349060059], [0.5986947417259216], [0.598049521446228], [0.597666323184967], [0.5975180864334106], [0.5975698232650757], [0.5977815985679626], [0.5981126427650452], [0.5985241532325745], [0.5989809632301331], [0.5994516015052795], [0.5999088883399963], [0.6003309488296509], [0.6006995439529419], [0.601001501083374], [0.6012277603149414], [0.6013739109039307], [0.6014394760131836], [0.6014275550842285]]\n"
          ],
          "name": "stdout"
        }
      ]
    },
    {
      "cell_type": "code",
      "metadata": {
        "id": "GucHp9M7G1vp"
      },
      "source": [
        "day_new=np.arange(1,101)\n",
        "day_pred=np.arange(101,131) #for 30 days prediction"
      ],
      "execution_count": null,
      "outputs": []
    },
    {
      "cell_type": "code",
      "metadata": {
        "colab": {
          "base_uri": "https://localhost:8080/"
        },
        "id": "m7NYeq-SHNZt",
        "outputId": "9837ef6e-39f9-4f3d-b2e9-d5adaf71ff74"
      },
      "source": [
        "import matplotlib.pyplot as plt\n",
        "len(dd)"
      ],
      "execution_count": null,
      "outputs": [
        {
          "output_type": "execute_result",
          "data": {
            "text/plain": [
              "2035"
            ]
          },
          "metadata": {
            "tags": []
          },
          "execution_count": 31
        }
      ]
    },
    {
      "cell_type": "code",
      "metadata": {
        "colab": {
          "base_uri": "https://localhost:8080/",
          "height": 280
        },
        "id": "SD5yyCQSHVY9",
        "outputId": "7142c12f-e0fa-4347-f206-aa8ce91b1c96"
      },
      "source": [
        "#Plotting the previous data and predicted data\n",
        "plt.plot(day_new,sc.inverse_transform(dd[1935:]))\n",
        "plt.plot(day_pred,sc.inverse_transform(l_output))"
      ],
      "execution_count": 34,
      "outputs": [
        {
          "output_type": "execute_result",
          "data": {
            "text/plain": [
              "[<matplotlib.lines.Line2D at 0x7fabf1309350>]"
            ]
          },
          "metadata": {
            "tags": []
          },
          "execution_count": 34
        },
        {
          "output_type": "display_data",
          "data": {
            "image/png": "[encoded data removed]",
            "text/plain": [
              "<Figure size 432x288 with 1 Axes>"
            ]
          },
          "metadata": {
            "tags": [],
            "needs_background": "light"
          }
        }
      ]
    },
    {
      "cell_type": "code",
      "metadata": {
        "colab": {
          "base_uri": "https://localhost:8080/",
          "height": 280
        },
        "id": "A-6uvVg1IM-A",
        "outputId": "15987531-ce5e-46aa-df2d-885ef6cb90c0"
      },
      "source": [
        "#Complete output of prediction.\n",
        "d2=dd.tolist()\n",
        "d2.extend(l_output)\n",
        "plt.plot(d2[1500:])\n",
        "#smooth line is our prediction"
      ],
      "execution_count": null,
      "outputs": [
        {
          "output_type": "execute_result",
          "data": {
            "text/plain": [
              "[<matplotlib.lines.Line2D at 0x7fabf1235790>]"
            ]
          },
          "metadata": {
            "tags": []
          },
          "execution_count": 33
        },
        {
          "output_type": "display_data",
          "data": {
            "image/png": "[encoded data removed]",
            "text/plain": [
              "<Figure size 432x288 with 1 Axes>"
            ]
          },
          "metadata": {
            "tags": [],
            "needs_background": "light"
          }
        }
      ]
    }
  ]
}