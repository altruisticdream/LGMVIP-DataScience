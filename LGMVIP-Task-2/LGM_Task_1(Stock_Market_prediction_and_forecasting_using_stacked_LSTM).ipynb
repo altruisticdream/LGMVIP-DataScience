{
  "nbformat": 4,
  "nbformat_minor": 0,
  "metadata": {
    "colab": {
      "name": "LGM_Task_1(Stock_Market_prediction_and_forecasting_using_stacked_LSTM).ipynb",
      "provenance": []
    },
    "kernelspec": {
      "name": "python3",
      "display_name": "Python 3"
    },
    "language_info": {
      "name": "python"
    }
  },
  "cells": [
    {
      "cell_type": "markdown",
      "metadata": {
        "id": "xsJyIW6PqXjh"
      },
      "source": [
        "# **Task_1:Stock Market prediction and forecasting using stacked LSTM**\n",
        "\n"
      ]
    },
    {
      "cell_type": "code",
      "metadata": {
        "colab": {
          "base_uri": "https://localhost:8080/"
        },
        "id": "QmKfZW0U_ukr",
        "outputId": "57f95bd4-20c6-432d-d43b-9bd4d2cf4806"
      },
      "source": [
        "#Mount Google drive\n",
        "from google.colab import drive\n",
        "drive.mount('/content/drive')"
      ],
      "execution_count": 1,
      "outputs": [
        {
          "output_type": "stream",
          "text": [
            "Mounted at /content/drive\n"
          ],
          "name": "stdout"
        }
      ]
    },
    {
      "cell_type": "code",
      "metadata": {
        "colab": {
          "base_uri": "https://localhost:8080/"
        },
        "id": "KHzcDHYD_xuS",
        "outputId": "ee28d794-95f5-4eb3-eb32-a349acd78619"
      },
      "source": [
        "#Change the directory to the path where you have all your input files\n",
        "%cd /content/drive/My Drive/LGMVIP_Task_2 Stock market\n",
        "\n",
        "#Below command shows you all thee files present in your current directory\n",
        "#!ls"
      ],
      "execution_count": 44,
      "outputs": [
        {
          "output_type": "stream",
          "text": [
            "/content/drive/My Drive/LGMVIP_Task_2 Stock market\n"
          ],
          "name": "stdout"
        }
      ]
    },
    {
      "cell_type": "code",
      "metadata": {
        "colab": {
          "base_uri": "https://localhost:8080/",
          "height": 201
        },
        "id": "_t3SXgNHrD4b",
        "outputId": "b349ecdf-6914-481b-9af2-5c63d0786aef"
      },
      "source": [
        "#Reading the dataset\n",
        "import pandas as pd\n",
        "df=pd.read_csv('NSE_TATAGLOBAL.csv')\n",
        "df.head(10)\n",
        "#Sorting the data date wise\n",
        "dff=df. iloc[::-1]\n",
        "dff.head()"
      ],
      "execution_count": 45,
      "outputs": [
        {
          "output_type": "execute_result",
          "data": {
            "text/html": [
              "<div>\n",
              "<style scoped>\n",
              "    .dataframe tbody tr th:only-of-type {\n",
              "        vertical-align: middle;\n",
              "    }\n",
              "\n",
              "    .dataframe tbody tr th {\n",
              "        vertical-align: top;\n",
              "    }\n",
              "\n",
              "    .dataframe thead th {\n",
              "        text-align: right;\n",
              "    }\n",
              "</style>\n",
              "<table border=\"1\" class=\"dataframe\">\n",
              "  <thead>\n",
              "    <tr style=\"text-align: right;\">\n",
              "      <th></th>\n",
              "      <th>Date</th>\n",
              "      <th>Open</th>\n",
              "      <th>High</th>\n",
              "      <th>Low</th>\n",
              "      <th>Last</th>\n",
              "      <th>Close</th>\n",
              "      <th>Total Trade Quantity</th>\n",
              "      <th>Turnover (Lacs)</th>\n",
              "    </tr>\n",
              "  </thead>\n",
              "  <tbody>\n",
              "    <tr>\n",
              "      <th>2034</th>\n",
              "      <td>2010-07-21</td>\n",
              "      <td>122.1</td>\n",
              "      <td>123.00</td>\n",
              "      <td>121.05</td>\n",
              "      <td>121.10</td>\n",
              "      <td>121.55</td>\n",
              "      <td>658666</td>\n",
              "      <td>803.56</td>\n",
              "    </tr>\n",
              "    <tr>\n",
              "      <th>2033</th>\n",
              "      <td>2010-07-22</td>\n",
              "      <td>120.3</td>\n",
              "      <td>122.00</td>\n",
              "      <td>120.25</td>\n",
              "      <td>120.75</td>\n",
              "      <td>120.90</td>\n",
              "      <td>293312</td>\n",
              "      <td>355.17</td>\n",
              "    </tr>\n",
              "    <tr>\n",
              "      <th>2032</th>\n",
              "      <td>2010-07-23</td>\n",
              "      <td>121.8</td>\n",
              "      <td>121.95</td>\n",
              "      <td>120.25</td>\n",
              "      <td>120.35</td>\n",
              "      <td>120.65</td>\n",
              "      <td>281312</td>\n",
              "      <td>340.31</td>\n",
              "    </tr>\n",
              "    <tr>\n",
              "      <th>2031</th>\n",
              "      <td>2010-07-26</td>\n",
              "      <td>120.1</td>\n",
              "      <td>121.00</td>\n",
              "      <td>117.10</td>\n",
              "      <td>117.10</td>\n",
              "      <td>117.60</td>\n",
              "      <td>658440</td>\n",
              "      <td>780.01</td>\n",
              "    </tr>\n",
              "    <tr>\n",
              "      <th>2030</th>\n",
              "      <td>2010-07-27</td>\n",
              "      <td>117.6</td>\n",
              "      <td>119.50</td>\n",
              "      <td>112.00</td>\n",
              "      <td>118.80</td>\n",
              "      <td>118.65</td>\n",
              "      <td>586100</td>\n",
              "      <td>694.98</td>\n",
              "    </tr>\n",
              "  </tbody>\n",
              "</table>\n",
              "</div>"
            ],
            "text/plain": [
              "            Date   Open    High  ...   Close  Total Trade Quantity  Turnover (Lacs)\n",
              "2034  2010-07-21  122.1  123.00  ...  121.55                658666           803.56\n",
              "2033  2010-07-22  120.3  122.00  ...  120.90                293312           355.17\n",
              "2032  2010-07-23  121.8  121.95  ...  120.65                281312           340.31\n",
              "2031  2010-07-26  120.1  121.00  ...  117.60                658440           780.01\n",
              "2030  2010-07-27  117.6  119.50  ...  118.65                586100           694.98\n",
              "\n",
              "[5 rows x 8 columns]"
            ]
          },
          "metadata": {
            "tags": []
          },
          "execution_count": 45
        }
      ]
    },
    {
      "cell_type": "code",
      "metadata": {
        "colab": {
          "base_uri": "https://localhost:8080/"
        },
        "id": "tc5uOLamsbjI",
        "outputId": "9d6f765f-de2d-44ba-ec12-4c481da5881f"
      },
      "source": [
        "#Taking High value in d1\n",
        "dd=dff.reset_index()['High']\n",
        "dd.head()"
      ],
      "execution_count": 46,
      "outputs": [
        {
          "output_type": "execute_result",
          "data": {
            "text/plain": [
              "0    123.00\n",
              "1    122.00\n",
              "2    121.95\n",
              "3    121.00\n",
              "4    119.50\n",
              "Name: High, dtype: float64"
            ]
          },
          "metadata": {
            "tags": []
          },
          "execution_count": 46
        }
      ]
    },
    {
      "cell_type": "code",
      "metadata": {
        "colab": {
          "base_uri": "https://localhost:8080/",
          "height": 280
        },
        "id": "HOnOWHnptP4Q",
        "outputId": "98325aff-a519-45dd-c713-084778e2febe"
      },
      "source": [
        "#Plotting Stock price w.r.t High\n",
        "import matplotlib.pyplot as plt\n",
        "plt.plot(dd)"
      ],
      "execution_count": 47,
      "outputs": [
        {
          "output_type": "execute_result",
          "data": {
            "text/plain": [
              "[<matplotlib.lines.Line2D at 0x7ffa44c11250>]"
            ]
          },
          "metadata": {
            "tags": []
          },
          "execution_count": 47
        },
        {
          "output_type": "display_data",
          "data": {
            "image/png": "[encoded data removed]",
            "text/plain": [
              "<Figure size 432x288 with 1 Axes>"
            ]
          },
          "metadata": {
            "tags": [],
            "needs_background": "light"
          }
        }
      ]
    },
    {
      "cell_type": "code",
      "metadata": {
        "colab": {
          "base_uri": "https://localhost:8080/"
        },
        "id": "Rr44x2vXt1fH",
        "outputId": "6c78631e-89a8-4260-9ff3-7837b8ddbf57"
      },
      "source": [
        "#Applying Minmax scaler to transform values of high into 0 to 1\n",
        "import numpy as np\n",
        "from sklearn.preprocessing import MinMaxScaler\n",
        "sc=MinMaxScaler(feature_range=(0,1))\n",
        "dd=sc.fit_transform(np.array(dd).reshape(-1,1))\n",
        "dd\n",
        "#Now d1 is converted into array having value between 0 and 1"
      ],
      "execution_count": 48,
      "outputs": [
        {
          "output_type": "execute_result",
          "data": {
            "text/plain": [
              "array([[0.16344786],\n",
              "       [0.15938199],\n",
              "       [0.15917869],\n",
              "       ...,\n",
              "       [0.6391543 ],\n",
              "       [0.62614353],\n",
              "       [0.62268754]])"
            ]
          },
          "metadata": {
            "tags": []
          },
          "execution_count": 48
        }
      ]
    },
    {
      "cell_type": "code",
      "metadata": {
        "colab": {
          "base_uri": "https://localhost:8080/"
        },
        "id": "qmH_rXVrvBx-",
        "outputId": "31c318d9-2d09-4fcf-e420-0fc7dce840c0"
      },
      "source": [
        "#Splitting dataset into train and test split\n",
        "train_size=int(len(dd)*0.65) #training size will be 65% of total size of dataset.\n",
        "test_size=len(dd)-train_size #test size=35%\n",
        "train_size,test_size"
      ],
      "execution_count": 49,
      "outputs": [
        {
          "output_type": "execute_result",
          "data": {
            "text/plain": [
              "(1322, 713)"
            ]
          },
          "metadata": {
            "tags": []
          },
          "execution_count": 49
        }
      ]
    },
    {
      "cell_type": "code",
      "metadata": {
        "colab": {
          "base_uri": "https://localhost:8080/"
        },
        "id": "lO03re5dyx5V",
        "outputId": "a9e6f837-3490-42c2-84f8-c1534a8e78ad"
      },
      "source": [
        "train_data,test_data=dd[0:train_size,:],dd[train_size:len(dd),:1]\n",
        "len(train_data),len(test_data)"
      ],
      "execution_count": 50,
      "outputs": [
        {
          "output_type": "execute_result",
          "data": {
            "text/plain": [
              "(1322, 713)"
            ]
          },
          "metadata": {
            "tags": []
          },
          "execution_count": 50
        }
      ]
    },
    {
      "cell_type": "code",
      "metadata": {
        "id": "zZ3zG82gzJpT"
      },
      "source": [
        "import numpy\n",
        "# convert the array of values into a dataset matrix\n",
        "def crDataset(dataset,time_step=1):\n",
        "  dataX,dataY=[],[]\n",
        "  for i in range (len(dataset)-time_step-1):\n",
        "    val=dataset[i:(i+time_step),0]\n",
        "    dataX.append(val)\n",
        "    dataY.append(dataset[i+time_step,0])\n",
        "  return numpy.array(dataX),numpy.array(dataY)"
      ],
      "execution_count": 51,
      "outputs": []
    },
    {
      "cell_type": "code",
      "metadata": {
        "id": "7pUBq89I1llk"
      },
      "source": [
        "#reshaping into x_train and y_train\n",
        "time_step=100\n",
        "x_train, y_train = crDataset(train_data,time_step)\n",
        "x_test, y_test =  crDataset(test_data,time_step)"
      ],
      "execution_count": 52,
      "outputs": []
    },
    {
      "cell_type": "code",
      "metadata": {
        "colab": {
          "base_uri": "https://localhost:8080/"
        },
        "id": "atw4oFQ22e4t",
        "outputId": "38d40c87-5dab-4cdf-e094-fcf6d58c49cd"
      },
      "source": [
        "print(x_train.shape),print(y_train.shape)"
      ],
      "execution_count": 53,
      "outputs": [
        {
          "output_type": "stream",
          "text": [
            "(1221, 100)\n",
            "(1221,)\n"
          ],
          "name": "stdout"
        },
        {
          "output_type": "execute_result",
          "data": {
            "text/plain": [
              "(None, None)"
            ]
          },
          "metadata": {
            "tags": []
          },
          "execution_count": 53
        }
      ]
    },
    {
      "cell_type": "code",
      "metadata": {
        "id": "vMzUO8_93Iu7"
      },
      "source": [
        "#reshaping x_train and x_test into three dimension which is required for LSTM.\n",
        "#input be like [samples,time steps,features]\n",
        "x_train=x_train.reshape(x_train.shape[0],x_train.shape[1],1)\n",
        "x_test=x_test.reshape(x_test.shape[0],x_test.shape[1],1)"
      ],
      "execution_count": 54,
      "outputs": []
    },
    {
      "cell_type": "code",
      "metadata": {
        "id": "3FcR0bZy4Twq"
      },
      "source": [
        "#Creating stacked LSTM model\n",
        "from tensorflow.keras.models import Sequential\n",
        "from tensorflow.keras.layers import Dense\n",
        "from tensorflow.keras.layers import LSTM\n",
        "model=Sequential()\n",
        "model.add(LSTM(50,return_sequences=True,input_shape=(100,1)))\n",
        "model.add(LSTM(50,return_sequences=True))\n",
        "model.add(LSTM(50))\n",
        "model.add(Dense(1))\n",
        "model.compile(loss='mean_squared_error',optimizer='adam')"
      ],
      "execution_count": 55,
      "outputs": []
    },
    {
      "cell_type": "code",
      "metadata": {
        "colab": {
          "base_uri": "https://localhost:8080/"
        },
        "id": "v8SIAESp5zob",
        "outputId": "155b5013-91fa-4255-98f0-5f2c6929f3a6"
      },
      "source": [
        "model.summary()"
      ],
      "execution_count": 56,
      "outputs": [
        {
          "output_type": "stream",
          "text": [
            "Model: \"sequential_1\"\n",
            "_________________________________________________________________\n",
            "Layer (type)                 Output Shape              Param #   \n",
            "=================================================================\n",
            "lstm_3 (LSTM)                (None, 100, 50)           10400     \n",
            "_________________________________________________________________\n",
            "lstm_4 (LSTM)                (None, 100, 50)           20200     \n",
            "_________________________________________________________________\n",
            "lstm_5 (LSTM)                (None, 50)                20200     \n",
            "_________________________________________________________________\n",
            "dense_1 (Dense)              (None, 1)                 51        \n",
            "=================================================================\n",
            "Total params: 50,851\n",
            "Trainable params: 50,851\n",
            "Non-trainable params: 0\n",
            "_________________________________________________________________\n"
          ],
          "name": "stdout"
        }
      ]
    },
    {
      "cell_type": "code",
      "metadata": {
        "colab": {
          "base_uri": "https://localhost:8080/"
        },
        "id": "Gt5-rhIp59Kc",
        "outputId": "21e1b53e-a476-4731-d4e9-9ee15324419d"
      },
      "source": [
        "model.fit(x_train,y_train,validation_data=(x_test,y_test),epochs=100,batch_size=64,verbose=1)"
      ],
      "execution_count": 57,
      "outputs": [
        {
          "output_type": "stream",
          "text": [
            "Epoch 1/100\n",
            "20/20 [==============================] - 9s 229ms/step - loss: 0.0106 - val_loss: 0.0228\n",
            "Epoch 2/100\n",
            "20/20 [==============================] - 3s 167ms/step - loss: 0.0020 - val_loss: 0.0039\n",
            "Epoch 3/100\n",
            "20/20 [==============================] - 3s 170ms/step - loss: 9.4310e-04 - val_loss: 0.0039\n",
            "Epoch 4/100\n",
            "20/20 [==============================] - 3s 169ms/step - loss: 8.4595e-04 - val_loss: 0.0035\n",
            "Epoch 5/100\n",
            "20/20 [==============================] - 3s 170ms/step - loss: 8.1604e-04 - val_loss: 0.0046\n",
            "Epoch 6/100\n",
            "20/20 [==============================] - 3s 174ms/step - loss: 7.6671e-04 - val_loss: 0.0032\n",
            "Epoch 7/100\n",
            "20/20 [==============================] - 4s 176ms/step - loss: 7.6366e-04 - val_loss: 0.0044\n",
            "Epoch 8/100\n",
            "20/20 [==============================] - 3s 170ms/step - loss: 7.1132e-04 - val_loss: 0.0044\n",
            "Epoch 9/100\n",
            "20/20 [==============================] - 3s 176ms/step - loss: 7.1761e-04 - val_loss: 0.0026\n",
            "Epoch 10/100\n",
            "20/20 [==============================] - 3s 165ms/step - loss: 6.8451e-04 - val_loss: 0.0027\n",
            "Epoch 11/100\n",
            "20/20 [==============================] - 3s 166ms/step - loss: 6.4738e-04 - val_loss: 0.0037\n",
            "Epoch 12/100\n",
            "20/20 [==============================] - 3s 167ms/step - loss: 6.5656e-04 - val_loss: 0.0038\n",
            "Epoch 13/100\n",
            "20/20 [==============================] - 3s 165ms/step - loss: 5.9480e-04 - val_loss: 0.0031\n",
            "Epoch 14/100\n",
            "20/20 [==============================] - 3s 171ms/step - loss: 5.7828e-04 - val_loss: 0.0055\n",
            "Epoch 15/100\n",
            "20/20 [==============================] - 3s 170ms/step - loss: 6.4186e-04 - val_loss: 0.0034\n",
            "Epoch 16/100\n",
            "20/20 [==============================] - 3s 174ms/step - loss: 5.8167e-04 - val_loss: 0.0055\n",
            "Epoch 17/100\n",
            "20/20 [==============================] - 3s 168ms/step - loss: 5.2629e-04 - val_loss: 0.0051\n",
            "Epoch 18/100\n",
            "20/20 [==============================] - 3s 170ms/step - loss: 5.3889e-04 - val_loss: 0.0032\n",
            "Epoch 19/100\n",
            "20/20 [==============================] - 4s 177ms/step - loss: 5.5128e-04 - val_loss: 0.0034\n",
            "Epoch 20/100\n",
            "20/20 [==============================] - 3s 172ms/step - loss: 5.0616e-04 - val_loss: 0.0055\n",
            "Epoch 21/100\n",
            "20/20 [==============================] - 4s 186ms/step - loss: 4.8350e-04 - val_loss: 0.0067\n",
            "Epoch 22/100\n",
            "20/20 [==============================] - 4s 179ms/step - loss: 4.7813e-04 - val_loss: 0.0045\n",
            "Epoch 23/100\n",
            "20/20 [==============================] - 3s 171ms/step - loss: 4.6316e-04 - val_loss: 0.0069\n",
            "Epoch 24/100\n",
            "20/20 [==============================] - 3s 168ms/step - loss: 4.8642e-04 - val_loss: 0.0070\n",
            "Epoch 25/100\n",
            "20/20 [==============================] - 3s 169ms/step - loss: 4.9069e-04 - val_loss: 0.0031\n",
            "Epoch 26/100\n",
            "20/20 [==============================] - 3s 171ms/step - loss: 4.4680e-04 - val_loss: 0.0041\n",
            "Epoch 27/100\n",
            "20/20 [==============================] - 3s 166ms/step - loss: 4.2491e-04 - val_loss: 0.0040\n",
            "Epoch 28/100\n",
            "20/20 [==============================] - 3s 174ms/step - loss: 4.1333e-04 - val_loss: 0.0032\n",
            "Epoch 29/100\n",
            "20/20 [==============================] - 3s 176ms/step - loss: 4.5014e-04 - val_loss: 0.0043\n",
            "Epoch 30/100\n",
            "20/20 [==============================] - 3s 171ms/step - loss: 3.9566e-04 - val_loss: 0.0038\n",
            "Epoch 31/100\n",
            "20/20 [==============================] - 4s 178ms/step - loss: 3.9093e-04 - val_loss: 0.0034\n",
            "Epoch 32/100\n",
            "20/20 [==============================] - 3s 167ms/step - loss: 4.0716e-04 - val_loss: 0.0060\n",
            "Epoch 33/100\n",
            "20/20 [==============================] - 3s 172ms/step - loss: 3.7785e-04 - val_loss: 0.0025\n",
            "Epoch 34/100\n",
            "20/20 [==============================] - 3s 175ms/step - loss: 3.7146e-04 - val_loss: 0.0038\n",
            "Epoch 35/100\n",
            "20/20 [==============================] - 3s 171ms/step - loss: 3.7934e-04 - val_loss: 0.0027\n",
            "Epoch 36/100\n",
            "20/20 [==============================] - 3s 171ms/step - loss: 3.4950e-04 - val_loss: 0.0043\n",
            "Epoch 37/100\n",
            "20/20 [==============================] - 3s 167ms/step - loss: 3.6892e-04 - val_loss: 0.0012\n",
            "Epoch 38/100\n",
            "20/20 [==============================] - 3s 173ms/step - loss: 3.5092e-04 - val_loss: 0.0036\n",
            "Epoch 39/100\n",
            "20/20 [==============================] - 3s 170ms/step - loss: 3.2354e-04 - val_loss: 0.0013\n",
            "Epoch 40/100\n",
            "20/20 [==============================] - 4s 177ms/step - loss: 3.1797e-04 - val_loss: 0.0013\n",
            "Epoch 41/100\n",
            "20/20 [==============================] - 3s 169ms/step - loss: 3.2026e-04 - val_loss: 0.0026\n",
            "Epoch 42/100\n",
            "20/20 [==============================] - 4s 177ms/step - loss: 3.3120e-04 - val_loss: 0.0028\n",
            "Epoch 43/100\n",
            "20/20 [==============================] - 3s 169ms/step - loss: 3.4737e-04 - val_loss: 9.3056e-04\n",
            "Epoch 44/100\n",
            "20/20 [==============================] - 4s 176ms/step - loss: 3.4378e-04 - val_loss: 0.0028\n",
            "Epoch 45/100\n",
            "20/20 [==============================] - 3s 167ms/step - loss: 2.8590e-04 - val_loss: 0.0012\n",
            "Epoch 46/100\n",
            "20/20 [==============================] - 3s 167ms/step - loss: 3.0235e-04 - val_loss: 0.0035\n",
            "Epoch 47/100\n",
            "20/20 [==============================] - 3s 166ms/step - loss: 2.9866e-04 - val_loss: 0.0016\n",
            "Epoch 48/100\n",
            "20/20 [==============================] - 3s 173ms/step - loss: 2.5570e-04 - val_loss: 0.0011\n",
            "Epoch 49/100\n",
            "20/20 [==============================] - 4s 176ms/step - loss: 2.6258e-04 - val_loss: 0.0028\n",
            "Epoch 50/100\n",
            "20/20 [==============================] - 4s 178ms/step - loss: 2.8048e-04 - val_loss: 0.0032\n",
            "Epoch 51/100\n",
            "20/20 [==============================] - 3s 164ms/step - loss: 2.6257e-04 - val_loss: 0.0016\n",
            "Epoch 52/100\n",
            "20/20 [==============================] - 3s 168ms/step - loss: 2.3873e-04 - val_loss: 0.0020\n",
            "Epoch 53/100\n",
            "20/20 [==============================] - 3s 172ms/step - loss: 2.3674e-04 - val_loss: 0.0024\n",
            "Epoch 54/100\n",
            "20/20 [==============================] - 3s 169ms/step - loss: 2.3435e-04 - val_loss: 0.0013\n",
            "Epoch 55/100\n",
            "20/20 [==============================] - 4s 177ms/step - loss: 2.2112e-04 - val_loss: 0.0016\n",
            "Epoch 56/100\n",
            "20/20 [==============================] - 3s 174ms/step - loss: 2.2578e-04 - val_loss: 0.0021\n",
            "Epoch 57/100\n",
            "20/20 [==============================] - 3s 168ms/step - loss: 2.1485e-04 - val_loss: 6.8596e-04\n",
            "Epoch 58/100\n",
            "20/20 [==============================] - 3s 168ms/step - loss: 2.2591e-04 - val_loss: 0.0015\n",
            "Epoch 59/100\n",
            "20/20 [==============================] - 3s 165ms/step - loss: 2.1639e-04 - val_loss: 0.0025\n",
            "Epoch 60/100\n",
            "20/20 [==============================] - 3s 167ms/step - loss: 2.0300e-04 - val_loss: 0.0014\n",
            "Epoch 61/100\n",
            "20/20 [==============================] - 3s 167ms/step - loss: 2.0674e-04 - val_loss: 0.0014\n",
            "Epoch 62/100\n",
            "20/20 [==============================] - 3s 166ms/step - loss: 1.9744e-04 - val_loss: 0.0013\n",
            "Epoch 63/100\n",
            "20/20 [==============================] - 3s 174ms/step - loss: 1.8867e-04 - val_loss: 0.0016\n",
            "Epoch 64/100\n",
            "20/20 [==============================] - 3s 172ms/step - loss: 2.0577e-04 - val_loss: 0.0011\n",
            "Epoch 65/100\n",
            "20/20 [==============================] - 3s 170ms/step - loss: 1.8080e-04 - val_loss: 5.8287e-04\n",
            "Epoch 66/100\n",
            "20/20 [==============================] - 3s 170ms/step - loss: 1.9008e-04 - val_loss: 4.2460e-04\n",
            "Epoch 67/100\n",
            "20/20 [==============================] - 3s 166ms/step - loss: 1.8021e-04 - val_loss: 0.0012\n",
            "Epoch 68/100\n",
            "20/20 [==============================] - 3s 166ms/step - loss: 1.7021e-04 - val_loss: 6.8027e-04\n",
            "Epoch 69/100\n",
            "20/20 [==============================] - 3s 169ms/step - loss: 1.6363e-04 - val_loss: 4.0750e-04\n",
            "Epoch 70/100\n",
            "20/20 [==============================] - 4s 183ms/step - loss: 1.8715e-04 - val_loss: 4.3842e-04\n",
            "Epoch 71/100\n",
            "20/20 [==============================] - 4s 178ms/step - loss: 1.7901e-04 - val_loss: 3.9204e-04\n",
            "Epoch 72/100\n",
            "20/20 [==============================] - 3s 170ms/step - loss: 1.9244e-04 - val_loss: 3.6581e-04\n",
            "Epoch 73/100\n",
            "20/20 [==============================] - 3s 170ms/step - loss: 1.9103e-04 - val_loss: 9.0233e-04\n",
            "Epoch 74/100\n",
            "20/20 [==============================] - 3s 169ms/step - loss: 1.7252e-04 - val_loss: 8.3585e-04\n",
            "Epoch 75/100\n",
            "20/20 [==============================] - 3s 165ms/step - loss: 1.5628e-04 - val_loss: 9.6654e-04\n",
            "Epoch 76/100\n",
            "20/20 [==============================] - 3s 172ms/step - loss: 1.5060e-04 - val_loss: 8.2536e-04\n",
            "Epoch 77/100\n",
            "20/20 [==============================] - 3s 169ms/step - loss: 1.5663e-04 - val_loss: 7.3591e-04\n",
            "Epoch 78/100\n",
            "20/20 [==============================] - 3s 173ms/step - loss: 1.5405e-04 - val_loss: 0.0013\n",
            "Epoch 79/100\n",
            "20/20 [==============================] - 3s 175ms/step - loss: 1.6893e-04 - val_loss: 0.0020\n",
            "Epoch 80/100\n",
            "20/20 [==============================] - 3s 175ms/step - loss: 1.8955e-04 - val_loss: 8.4719e-04\n",
            "Epoch 81/100\n",
            "20/20 [==============================] - 3s 169ms/step - loss: 1.6655e-04 - val_loss: 3.1554e-04\n",
            "Epoch 82/100\n",
            "20/20 [==============================] - 3s 173ms/step - loss: 1.5069e-04 - val_loss: 7.8982e-04\n",
            "Epoch 83/100\n",
            "20/20 [==============================] - 3s 174ms/step - loss: 1.3975e-04 - val_loss: 4.8820e-04\n",
            "Epoch 84/100\n",
            "20/20 [==============================] - 3s 169ms/step - loss: 1.4881e-04 - val_loss: 3.0762e-04\n",
            "Epoch 85/100\n",
            "20/20 [==============================] - 3s 174ms/step - loss: 1.5056e-04 - val_loss: 0.0012\n",
            "Epoch 86/100\n",
            "20/20 [==============================] - 4s 183ms/step - loss: 1.6016e-04 - val_loss: 6.9479e-04\n",
            "Epoch 87/100\n",
            "20/20 [==============================] - 4s 176ms/step - loss: 1.3844e-04 - val_loss: 0.0015\n",
            "Epoch 88/100\n",
            "20/20 [==============================] - 3s 167ms/step - loss: 1.5873e-04 - val_loss: 4.4491e-04\n",
            "Epoch 89/100\n",
            "20/20 [==============================] - 3s 174ms/step - loss: 1.6553e-04 - val_loss: 8.3194e-04\n",
            "Epoch 90/100\n",
            "20/20 [==============================] - 3s 174ms/step - loss: 1.3078e-04 - val_loss: 0.0010\n",
            "Epoch 91/100\n",
            "20/20 [==============================] - 4s 175ms/step - loss: 1.3267e-04 - val_loss: 5.6811e-04\n",
            "Epoch 92/100\n",
            "20/20 [==============================] - 3s 170ms/step - loss: 1.2798e-04 - val_loss: 5.8972e-04\n",
            "Epoch 93/100\n",
            "20/20 [==============================] - 3s 169ms/step - loss: 1.2941e-04 - val_loss: 5.6839e-04\n",
            "Epoch 94/100\n",
            "20/20 [==============================] - 3s 170ms/step - loss: 1.3402e-04 - val_loss: 3.3938e-04\n",
            "Epoch 95/100\n",
            "20/20 [==============================] - 3s 168ms/step - loss: 1.2869e-04 - val_loss: 3.3282e-04\n",
            "Epoch 96/100\n",
            "20/20 [==============================] - 3s 172ms/step - loss: 1.3013e-04 - val_loss: 0.0010\n",
            "Epoch 97/100\n",
            "20/20 [==============================] - 3s 168ms/step - loss: 1.2929e-04 - val_loss: 4.5282e-04\n",
            "Epoch 98/100\n",
            "20/20 [==============================] - 3s 169ms/step - loss: 1.2575e-04 - val_loss: 3.4839e-04\n",
            "Epoch 99/100\n",
            "20/20 [==============================] - 4s 177ms/step - loss: 1.3607e-04 - val_loss: 9.9264e-04\n",
            "Epoch 100/100\n",
            "20/20 [==============================] - 3s 173ms/step - loss: 1.3267e-04 - val_loss: 6.1381e-04\n"
          ],
          "name": "stdout"
        },
        {
          "output_type": "execute_result",
          "data": {
            "text/plain": [
              "<tensorflow.python.keras.callbacks.History at 0x7ffa4559ca10>"
            ]
          },
          "metadata": {
            "tags": []
          },
          "execution_count": 57
        }
      ]
    },
    {
      "cell_type": "code",
      "metadata": {
        "colab": {
          "base_uri": "https://localhost:8080/",
          "height": 34
        },
        "id": "WhKGQ6Uw-uQr",
        "outputId": "8756b42c-371f-456b-f2af-ae2696b19eb3"
      },
      "source": [
        "import tensorflow as tf\n",
        "tf.__version__"
      ],
      "execution_count": 58,
      "outputs": [
        {
          "output_type": "execute_result",
          "data": {
            "application/vnd.google.colaboratory.intrinsic+json": {
              "type": "string"
            },
            "text/plain": [
              "'2.5.0'"
            ]
          },
          "metadata": {
            "tags": []
          },
          "execution_count": 58
        }
      ]
    },
    {
      "cell_type": "code",
      "metadata": {
        "id": "4ijj1_t-7yHi"
      },
      "source": [
        "#Will make prediction and check performance metices\n",
        "train_predict=model.predict(x_train)\n",
        "test_predict=model.predict(x_test)"
      ],
      "execution_count": 59,
      "outputs": []
    },
    {
      "cell_type": "code",
      "metadata": {
        "id": "zrdJzXOw8bwo"
      },
      "source": [
        "#Transforming back to original form\n",
        "train_predict=sc.inverse_transform(train_predict)\n",
        "test_predict=sc.inverse_transform(test_predict)"
      ],
      "execution_count": 60,
      "outputs": []
    },
    {
      "cell_type": "code",
      "metadata": {
        "colab": {
          "base_uri": "https://localhost:8080/"
        },
        "id": "i59BzJw2_VFc",
        "outputId": "39daf755-7df6-42e4-ca01-2613f7cf1eaf"
      },
      "source": [
        "#Calculating RSME Performance metrics\n",
        "import math\n",
        "from sklearn.metrics import mean_squared_error\n",
        "#For train Data\n",
        "math.sqrt(mean_squared_error(y_train,train_predict))"
      ],
      "execution_count": 61,
      "outputs": [
        {
          "output_type": "execute_result",
          "data": {
            "text/plain": [
              "136.66368975678137"
            ]
          },
          "metadata": {
            "tags": []
          },
          "execution_count": 61
        }
      ]
    },
    {
      "cell_type": "code",
      "metadata": {
        "colab": {
          "base_uri": "https://localhost:8080/"
        },
        "id": "uKgN0OW3_rgc",
        "outputId": "291c5ccb-9289-4168-f66c-99be6744f335"
      },
      "source": [
        "#For test Data\n",
        "math.sqrt(mean_squared_error(y_test,test_predict))"
      ],
      "execution_count": 62,
      "outputs": [
        {
          "output_type": "execute_result",
          "data": {
            "text/plain": [
              "201.0101594706398"
            ]
          },
          "metadata": {
            "tags": []
          },
          "execution_count": 62
        }
      ]
    },
    {
      "cell_type": "code",
      "metadata": {
        "colab": {
          "base_uri": "https://localhost:8080/",
          "height": 263
        },
        "id": "rSOox-F7_3TZ",
        "outputId": "b379a65e-288e-4061-a001-3bd471738c55"
      },
      "source": [
        "#plotting our train and test data\n",
        "#shift train predictions for plotting\n",
        "look_back=100\n",
        "trainPredictPlot=numpy.empty_like(dd)\n",
        "trainPredictPlot[:,:]=np.nan\n",
        "trainPredictPlot[look_back:len(train_predict)+look_back,:]=train_predict\n",
        "#shift test predictions for plotting\n",
        "testPredictPlot=numpy.empty_like(dd)\n",
        "testPredictPlot[:,:]=np.nan\n",
        "testPredictPlot[len(train_predict)+(look_back*2)+1:len(dd)-1,:]=test_predict\n",
        "#plot baseline and predictions\n",
        "plt.plot(sc.inverse_transform(dd))\n",
        "plt.plot(trainPredictPlot)\n",
        "plt.plot(testPredictPlot)\n",
        "plt.show()\n",
        "#orange--> Training data\n",
        "#blue --> Original data\n",
        "#green--> Predicted data"
      ],
      "execution_count": 63,
      "outputs": [
        {
          "output_type": "display_data",
          "data": {
            "image/png": "[encoded data removed]",
            "text/plain": [
              "<Figure size 432x288 with 1 Axes>"
            ]
          },
          "metadata": {
            "tags": [],
            "needs_background": "light"
          }
        }
      ]
    },
    {
      "cell_type": "code",
      "metadata": {
        "colab": {
          "base_uri": "https://localhost:8080/"
        },
        "id": "AdeyuwftBcq3",
        "outputId": "2a31b803-9232-41ee-e4ea-d35405d05add"
      },
      "source": [
        "len(test_data)"
      ],
      "execution_count": 64,
      "outputs": [
        {
          "output_type": "execute_result",
          "data": {
            "text/plain": [
              "713"
            ]
          },
          "metadata": {
            "tags": []
          },
          "execution_count": 64
        }
      ]
    },
    {
      "cell_type": "code",
      "metadata": {
        "colab": {
          "base_uri": "https://localhost:8080/"
        },
        "id": "GOZpM_tQB71Y",
        "outputId": "2e243c16-73e8-4351-d07e-ee05686b0e59"
      },
      "source": [
        "x_input=test_data[613:].reshape(1,-1)\n",
        "x_input.shape"
      ],
      "execution_count": 65,
      "outputs": [
        {
          "output_type": "execute_result",
          "data": {
            "text/plain": [
              "(1, 100)"
            ]
          },
          "metadata": {
            "tags": []
          },
          "execution_count": 65
        }
      ]
    },
    {
      "cell_type": "code",
      "metadata": {
        "id": "t2pvu7ZKCJcS"
      },
      "source": [
        "#converting test data into list\n",
        "temp_input=list(x_input)\n",
        "temp_input=temp_input[0].tolist()"
      ],
      "execution_count": 66,
      "outputs": []
    },
    {
      "cell_type": "code",
      "metadata": {
        "colab": {
          "base_uri": "https://localhost:8080/"
        },
        "id": "dOLrlbDoCkQX",
        "outputId": "4f15166e-8098-426b-c547-ef0c2680aa28"
      },
      "source": [
        "#Demonstrate prediction for the next 30 days\n",
        "from numpy import array\n",
        "\n",
        "l_output=[]\n",
        "n_steps=100\n",
        "i=0\n",
        "while(i<30):\n",
        "  if(len(temp_input)>100):\n",
        "    x_input=np.array(temp_input[1:])\n",
        "    print(\"{} day input {}\".format(i,x_input))\n",
        "    x_input=x_input.reshape(1,-1)\n",
        "    x_input=x_input.reshape((1,n_steps,1))\n",
        "    yhat=model.predict(x_input,verbose=0)\n",
        "    print(\"{} day output {}\".format(i,yhat))\n",
        "    temp_input.extend(yhat[0].tolist())\n",
        "    temp_input=temp_input[1:]\n",
        "    l_output.extend(yhat.tolist())\n",
        "    i=i+1\n",
        "  else:\n",
        "    x_input=x_input.reshape((1,n_steps,1)) #reshaping\n",
        "    yhat=model.predict(x_input,verbose=0) #prediction\n",
        "    print(yhat[0])\n",
        "    temp_input.extend(yhat[0].tolist()) #adding yhat value to previous input\n",
        "    print(len(temp_input))\n",
        "    l_output.extend(yhat.tolist()) #adding yhat value to final output\n",
        "    i=i+1\n",
        "\n",
        "print(l_output)"
      ],
      "execution_count": 67,
      "outputs": [
        {
          "output_type": "stream",
          "text": [
            "[0.60236347]\n",
            "101\n",
            "1 day input [0.86013417 0.85464525 0.84448059 0.8072779  0.71843871 0.66192316\n",
            " 0.67696686 0.67554381 0.67310429 0.68428542 0.68936776 0.70217524\n",
            " 0.71803212 0.72941655 0.73144948 0.74486684 0.76926205 0.75991055\n",
            " 0.74242732 0.73958122 0.74771295 0.75991055 0.7584875  0.76621264\n",
            " 0.75462492 0.76316324 0.79670665 0.80585485 0.7889815  0.78003659\n",
            " 0.73978451 0.73002643 0.73490547 0.74872942 0.75991055 0.75462492\n",
            " 0.75401504 0.76174019 0.7737345  0.82008538 0.80585485 0.81154706\n",
            " 0.77434438 0.78633869 0.79284407 0.78328929 0.77109169 0.74385038\n",
            " 0.71193332 0.68733482 0.67818662 0.65257166 0.64301687 0.65643423\n",
            " 0.67656028 0.67371417 0.65114861 0.65521447 0.66761537 0.67838992\n",
            " 0.69993901 0.63122586 0.63508843 0.64098394 0.64545639 0.64118723\n",
            " 0.63854442 0.63081927 0.62472047 0.6330555  0.64728603 0.6574507\n",
            " 0.66761537 0.66720878 0.64159382 0.62776987 0.63651149 0.63630819\n",
            " 0.62980281 0.62817646 0.63813783 0.65358813 0.63183574 0.57653995\n",
            " 0.57816629 0.57613336 0.61943484 0.57979264 0.57288067 0.62573694\n",
            " 0.63102257 0.6361049  0.62776987 0.6269567  0.63590161 0.62594023\n",
            " 0.6391543  0.62614353 0.62268754 0.60236347]\n",
            "1 day output [[0.58124787]]\n",
            "2 day input [0.85464525 0.84448059 0.8072779  0.71843871 0.66192316 0.67696686\n",
            " 0.67554381 0.67310429 0.68428542 0.68936776 0.70217524 0.71803212\n",
            " 0.72941655 0.73144948 0.74486684 0.76926205 0.75991055 0.74242732\n",
            " 0.73958122 0.74771295 0.75991055 0.7584875  0.76621264 0.75462492\n",
            " 0.76316324 0.79670665 0.80585485 0.7889815  0.78003659 0.73978451\n",
            " 0.73002643 0.73490547 0.74872942 0.75991055 0.75462492 0.75401504\n",
            " 0.76174019 0.7737345  0.82008538 0.80585485 0.81154706 0.77434438\n",
            " 0.78633869 0.79284407 0.78328929 0.77109169 0.74385038 0.71193332\n",
            " 0.68733482 0.67818662 0.65257166 0.64301687 0.65643423 0.67656028\n",
            " 0.67371417 0.65114861 0.65521447 0.66761537 0.67838992 0.69993901\n",
            " 0.63122586 0.63508843 0.64098394 0.64545639 0.64118723 0.63854442\n",
            " 0.63081927 0.62472047 0.6330555  0.64728603 0.6574507  0.66761537\n",
            " 0.66720878 0.64159382 0.62776987 0.63651149 0.63630819 0.62980281\n",
            " 0.62817646 0.63813783 0.65358813 0.63183574 0.57653995 0.57816629\n",
            " 0.57613336 0.61943484 0.57979264 0.57288067 0.62573694 0.63102257\n",
            " 0.6361049  0.62776987 0.6269567  0.63590161 0.62594023 0.6391543\n",
            " 0.62614353 0.62268754 0.60236347 0.58124787]\n",
            "2 day output [[0.56010556]]\n",
            "3 day input [0.84448059 0.8072779  0.71843871 0.66192316 0.67696686 0.67554381\n",
            " 0.67310429 0.68428542 0.68936776 0.70217524 0.71803212 0.72941655\n",
            " 0.73144948 0.74486684 0.76926205 0.75991055 0.74242732 0.73958122\n",
            " 0.74771295 0.75991055 0.7584875  0.76621264 0.75462492 0.76316324\n",
            " 0.79670665 0.80585485 0.7889815  0.78003659 0.73978451 0.73002643\n",
            " 0.73490547 0.74872942 0.75991055 0.75462492 0.75401504 0.76174019\n",
            " 0.7737345  0.82008538 0.80585485 0.81154706 0.77434438 0.78633869\n",
            " 0.79284407 0.78328929 0.77109169 0.74385038 0.71193332 0.68733482\n",
            " 0.67818662 0.65257166 0.64301687 0.65643423 0.67656028 0.67371417\n",
            " 0.65114861 0.65521447 0.66761537 0.67838992 0.69993901 0.63122586\n",
            " 0.63508843 0.64098394 0.64545639 0.64118723 0.63854442 0.63081927\n",
            " 0.62472047 0.6330555  0.64728603 0.6574507  0.66761537 0.66720878\n",
            " 0.64159382 0.62776987 0.63651149 0.63630819 0.62980281 0.62817646\n",
            " 0.63813783 0.65358813 0.63183574 0.57653995 0.57816629 0.57613336\n",
            " 0.61943484 0.57979264 0.57288067 0.62573694 0.63102257 0.6361049\n",
            " 0.62776987 0.6269567  0.63590161 0.62594023 0.6391543  0.62614353\n",
            " 0.62268754 0.60236347 0.58124787 0.56010556]\n",
            "3 day output [[0.54238564]]\n",
            "4 day input [0.8072779  0.71843871 0.66192316 0.67696686 0.67554381 0.67310429\n",
            " 0.68428542 0.68936776 0.70217524 0.71803212 0.72941655 0.73144948\n",
            " 0.74486684 0.76926205 0.75991055 0.74242732 0.73958122 0.74771295\n",
            " 0.75991055 0.7584875  0.76621264 0.75462492 0.76316324 0.79670665\n",
            " 0.80585485 0.7889815  0.78003659 0.73978451 0.73002643 0.73490547\n",
            " 0.74872942 0.75991055 0.75462492 0.75401504 0.76174019 0.7737345\n",
            " 0.82008538 0.80585485 0.81154706 0.77434438 0.78633869 0.79284407\n",
            " 0.78328929 0.77109169 0.74385038 0.71193332 0.68733482 0.67818662\n",
            " 0.65257166 0.64301687 0.65643423 0.67656028 0.67371417 0.65114861\n",
            " 0.65521447 0.66761537 0.67838992 0.69993901 0.63122586 0.63508843\n",
            " 0.64098394 0.64545639 0.64118723 0.63854442 0.63081927 0.62472047\n",
            " 0.6330555  0.64728603 0.6574507  0.66761537 0.66720878 0.64159382\n",
            " 0.62776987 0.63651149 0.63630819 0.62980281 0.62817646 0.63813783\n",
            " 0.65358813 0.63183574 0.57653995 0.57816629 0.57613336 0.61943484\n",
            " 0.57979264 0.57288067 0.62573694 0.63102257 0.6361049  0.62776987\n",
            " 0.6269567  0.63590161 0.62594023 0.6391543  0.62614353 0.62268754\n",
            " 0.60236347 0.58124787 0.56010556 0.54238564]\n",
            "4 day output [[0.5275844]]\n",
            "5 day input [0.71843871 0.66192316 0.67696686 0.67554381 0.67310429 0.68428542\n",
            " 0.68936776 0.70217524 0.71803212 0.72941655 0.73144948 0.74486684\n",
            " 0.76926205 0.75991055 0.74242732 0.73958122 0.74771295 0.75991055\n",
            " 0.7584875  0.76621264 0.75462492 0.76316324 0.79670665 0.80585485\n",
            " 0.7889815  0.78003659 0.73978451 0.73002643 0.73490547 0.74872942\n",
            " 0.75991055 0.75462492 0.75401504 0.76174019 0.7737345  0.82008538\n",
            " 0.80585485 0.81154706 0.77434438 0.78633869 0.79284407 0.78328929\n",
            " 0.77109169 0.74385038 0.71193332 0.68733482 0.67818662 0.65257166\n",
            " 0.64301687 0.65643423 0.67656028 0.67371417 0.65114861 0.65521447\n",
            " 0.66761537 0.67838992 0.69993901 0.63122586 0.63508843 0.64098394\n",
            " 0.64545639 0.64118723 0.63854442 0.63081927 0.62472047 0.6330555\n",
            " 0.64728603 0.6574507  0.66761537 0.66720878 0.64159382 0.62776987\n",
            " 0.63651149 0.63630819 0.62980281 0.62817646 0.63813783 0.65358813\n",
            " 0.63183574 0.57653995 0.57816629 0.57613336 0.61943484 0.57979264\n",
            " 0.57288067 0.62573694 0.63102257 0.6361049  0.62776987 0.6269567\n",
            " 0.63590161 0.62594023 0.6391543  0.62614353 0.62268754 0.60236347\n",
            " 0.58124787 0.56010556 0.54238564 0.52758437]\n",
            "5 day output [[0.514622]]\n",
            "6 day input [0.66192316 0.67696686 0.67554381 0.67310429 0.68428542 0.68936776\n",
            " 0.70217524 0.71803212 0.72941655 0.73144948 0.74486684 0.76926205\n",
            " 0.75991055 0.74242732 0.73958122 0.74771295 0.75991055 0.7584875\n",
            " 0.76621264 0.75462492 0.76316324 0.79670665 0.80585485 0.7889815\n",
            " 0.78003659 0.73978451 0.73002643 0.73490547 0.74872942 0.75991055\n",
            " 0.75462492 0.75401504 0.76174019 0.7737345  0.82008538 0.80585485\n",
            " 0.81154706 0.77434438 0.78633869 0.79284407 0.78328929 0.77109169\n",
            " 0.74385038 0.71193332 0.68733482 0.67818662 0.65257166 0.64301687\n",
            " 0.65643423 0.67656028 0.67371417 0.65114861 0.65521447 0.66761537\n",
            " 0.67838992 0.69993901 0.63122586 0.63508843 0.64098394 0.64545639\n",
            " 0.64118723 0.63854442 0.63081927 0.62472047 0.6330555  0.64728603\n",
            " 0.6574507  0.66761537 0.66720878 0.64159382 0.62776987 0.63651149\n",
            " 0.63630819 0.62980281 0.62817646 0.63813783 0.65358813 0.63183574\n",
            " 0.57653995 0.57816629 0.57613336 0.61943484 0.57979264 0.57288067\n",
            " 0.62573694 0.63102257 0.6361049  0.62776987 0.6269567  0.63590161\n",
            " 0.62594023 0.6391543  0.62614353 0.62268754 0.60236347 0.58124787\n",
            " 0.56010556 0.54238564 0.52758437 0.51462197]\n",
            "6 day output [[0.5028469]]\n",
            "7 day input [0.67696686 0.67554381 0.67310429 0.68428542 0.68936776 0.70217524\n",
            " 0.71803212 0.72941655 0.73144948 0.74486684 0.76926205 0.75991055\n",
            " 0.74242732 0.73958122 0.74771295 0.75991055 0.7584875  0.76621264\n",
            " 0.75462492 0.76316324 0.79670665 0.80585485 0.7889815  0.78003659\n",
            " 0.73978451 0.73002643 0.73490547 0.74872942 0.75991055 0.75462492\n",
            " 0.75401504 0.76174019 0.7737345  0.82008538 0.80585485 0.81154706\n",
            " 0.77434438 0.78633869 0.79284407 0.78328929 0.77109169 0.74385038\n",
            " 0.71193332 0.68733482 0.67818662 0.65257166 0.64301687 0.65643423\n",
            " 0.67656028 0.67371417 0.65114861 0.65521447 0.66761537 0.67838992\n",
            " 0.69993901 0.63122586 0.63508843 0.64098394 0.64545639 0.64118723\n",
            " 0.63854442 0.63081927 0.62472047 0.6330555  0.64728603 0.6574507\n",
            " 0.66761537 0.66720878 0.64159382 0.62776987 0.63651149 0.63630819\n",
            " 0.62980281 0.62817646 0.63813783 0.65358813 0.63183574 0.57653995\n",
            " 0.57816629 0.57613336 0.61943484 0.57979264 0.57288067 0.62573694\n",
            " 0.63102257 0.6361049  0.62776987 0.6269567  0.63590161 0.62594023\n",
            " 0.6391543  0.62614353 0.62268754 0.60236347 0.58124787 0.56010556\n",
            " 0.54238564 0.52758437 0.51462197 0.5028469 ]\n",
            "7 day output [[0.49205545]]\n",
            "8 day input [0.67554381 0.67310429 0.68428542 0.68936776 0.70217524 0.71803212\n",
            " 0.72941655 0.73144948 0.74486684 0.76926205 0.75991055 0.74242732\n",
            " 0.73958122 0.74771295 0.75991055 0.7584875  0.76621264 0.75462492\n",
            " 0.76316324 0.79670665 0.80585485 0.7889815  0.78003659 0.73978451\n",
            " 0.73002643 0.73490547 0.74872942 0.75991055 0.75462492 0.75401504\n",
            " 0.76174019 0.7737345  0.82008538 0.80585485 0.81154706 0.77434438\n",
            " 0.78633869 0.79284407 0.78328929 0.77109169 0.74385038 0.71193332\n",
            " 0.68733482 0.67818662 0.65257166 0.64301687 0.65643423 0.67656028\n",
            " 0.67371417 0.65114861 0.65521447 0.66761537 0.67838992 0.69993901\n",
            " 0.63122586 0.63508843 0.64098394 0.64545639 0.64118723 0.63854442\n",
            " 0.63081927 0.62472047 0.6330555  0.64728603 0.6574507  0.66761537\n",
            " 0.66720878 0.64159382 0.62776987 0.63651149 0.63630819 0.62980281\n",
            " 0.62817646 0.63813783 0.65358813 0.63183574 0.57653995 0.57816629\n",
            " 0.57613336 0.61943484 0.57979264 0.57288067 0.62573694 0.63102257\n",
            " 0.6361049  0.62776987 0.6269567  0.63590161 0.62594023 0.6391543\n",
            " 0.62614353 0.62268754 0.60236347 0.58124787 0.56010556 0.54238564\n",
            " 0.52758437 0.51462197 0.5028469  0.49205545]\n",
            "8 day output [[0.48224372]]\n",
            "9 day input [0.67310429 0.68428542 0.68936776 0.70217524 0.71803212 0.72941655\n",
            " 0.73144948 0.74486684 0.76926205 0.75991055 0.74242732 0.73958122\n",
            " 0.74771295 0.75991055 0.7584875  0.76621264 0.75462492 0.76316324\n",
            " 0.79670665 0.80585485 0.7889815  0.78003659 0.73978451 0.73002643\n",
            " 0.73490547 0.74872942 0.75991055 0.75462492 0.75401504 0.76174019\n",
            " 0.7737345  0.82008538 0.80585485 0.81154706 0.77434438 0.78633869\n",
            " 0.79284407 0.78328929 0.77109169 0.74385038 0.71193332 0.68733482\n",
            " 0.67818662 0.65257166 0.64301687 0.65643423 0.67656028 0.67371417\n",
            " 0.65114861 0.65521447 0.66761537 0.67838992 0.69993901 0.63122586\n",
            " 0.63508843 0.64098394 0.64545639 0.64118723 0.63854442 0.63081927\n",
            " 0.62472047 0.6330555  0.64728603 0.6574507  0.66761537 0.66720878\n",
            " 0.64159382 0.62776987 0.63651149 0.63630819 0.62980281 0.62817646\n",
            " 0.63813783 0.65358813 0.63183574 0.57653995 0.57816629 0.57613336\n",
            " 0.61943484 0.57979264 0.57288067 0.62573694 0.63102257 0.6361049\n",
            " 0.62776987 0.6269567  0.63590161 0.62594023 0.6391543  0.62614353\n",
            " 0.62268754 0.60236347 0.58124787 0.56010556 0.54238564 0.52758437\n",
            " 0.51462197 0.5028469  0.49205545 0.48224372]\n",
            "9 day output [[0.4734235]]\n",
            "10 day input [0.68428542 0.68936776 0.70217524 0.71803212 0.72941655 0.73144948\n",
            " 0.74486684 0.76926205 0.75991055 0.74242732 0.73958122 0.74771295\n",
            " 0.75991055 0.7584875  0.76621264 0.75462492 0.76316324 0.79670665\n",
            " 0.80585485 0.7889815  0.78003659 0.73978451 0.73002643 0.73490547\n",
            " 0.74872942 0.75991055 0.75462492 0.75401504 0.76174019 0.7737345\n",
            " 0.82008538 0.80585485 0.81154706 0.77434438 0.78633869 0.79284407\n",
            " 0.78328929 0.77109169 0.74385038 0.71193332 0.68733482 0.67818662\n",
            " 0.65257166 0.64301687 0.65643423 0.67656028 0.67371417 0.65114861\n",
            " 0.65521447 0.66761537 0.67838992 0.69993901 0.63122586 0.63508843\n",
            " 0.64098394 0.64545639 0.64118723 0.63854442 0.63081927 0.62472047\n",
            " 0.6330555  0.64728603 0.6574507  0.66761537 0.66720878 0.64159382\n",
            " 0.62776987 0.63651149 0.63630819 0.62980281 0.62817646 0.63813783\n",
            " 0.65358813 0.63183574 0.57653995 0.57816629 0.57613336 0.61943484\n",
            " 0.57979264 0.57288067 0.62573694 0.63102257 0.6361049  0.62776987\n",
            " 0.6269567  0.63590161 0.62594023 0.6391543  0.62614353 0.62268754\n",
            " 0.60236347 0.58124787 0.56010556 0.54238564 0.52758437 0.51462197\n",
            " 0.5028469  0.49205545 0.48224372 0.47342351]\n",
            "10 day output [[0.4655564]]\n",
            "11 day input [0.68936776 0.70217524 0.71803212 0.72941655 0.73144948 0.74486684\n",
            " 0.76926205 0.75991055 0.74242732 0.73958122 0.74771295 0.75991055\n",
            " 0.7584875  0.76621264 0.75462492 0.76316324 0.79670665 0.80585485\n",
            " 0.7889815  0.78003659 0.73978451 0.73002643 0.73490547 0.74872942\n",
            " 0.75991055 0.75462492 0.75401504 0.76174019 0.7737345  0.82008538\n",
            " 0.80585485 0.81154706 0.77434438 0.78633869 0.79284407 0.78328929\n",
            " 0.77109169 0.74385038 0.71193332 0.68733482 0.67818662 0.65257166\n",
            " 0.64301687 0.65643423 0.67656028 0.67371417 0.65114861 0.65521447\n",
            " 0.66761537 0.67838992 0.69993901 0.63122586 0.63508843 0.64098394\n",
            " 0.64545639 0.64118723 0.63854442 0.63081927 0.62472047 0.6330555\n",
            " 0.64728603 0.6574507  0.66761537 0.66720878 0.64159382 0.62776987\n",
            " 0.63651149 0.63630819 0.62980281 0.62817646 0.63813783 0.65358813\n",
            " 0.63183574 0.57653995 0.57816629 0.57613336 0.61943484 0.57979264\n",
            " 0.57288067 0.62573694 0.63102257 0.6361049  0.62776987 0.6269567\n",
            " 0.63590161 0.62594023 0.6391543  0.62614353 0.62268754 0.60236347\n",
            " 0.58124787 0.56010556 0.54238564 0.52758437 0.51462197 0.5028469\n",
            " 0.49205545 0.48224372 0.47342351 0.46555641]\n",
            "11 day output [[0.45855814]]\n",
            "12 day input [0.70217524 0.71803212 0.72941655 0.73144948 0.74486684 0.76926205\n",
            " 0.75991055 0.74242732 0.73958122 0.74771295 0.75991055 0.7584875\n",
            " 0.76621264 0.75462492 0.76316324 0.79670665 0.80585485 0.7889815\n",
            " 0.78003659 0.73978451 0.73002643 0.73490547 0.74872942 0.75991055\n",
            " 0.75462492 0.75401504 0.76174019 0.7737345  0.82008538 0.80585485\n",
            " 0.81154706 0.77434438 0.78633869 0.79284407 0.78328929 0.77109169\n",
            " 0.74385038 0.71193332 0.68733482 0.67818662 0.65257166 0.64301687\n",
            " 0.65643423 0.67656028 0.67371417 0.65114861 0.65521447 0.66761537\n",
            " 0.67838992 0.69993901 0.63122586 0.63508843 0.64098394 0.64545639\n",
            " 0.64118723 0.63854442 0.63081927 0.62472047 0.6330555  0.64728603\n",
            " 0.6574507  0.66761537 0.66720878 0.64159382 0.62776987 0.63651149\n",
            " 0.63630819 0.62980281 0.62817646 0.63813783 0.65358813 0.63183574\n",
            " 0.57653995 0.57816629 0.57613336 0.61943484 0.57979264 0.57288067\n",
            " 0.62573694 0.63102257 0.6361049  0.62776987 0.6269567  0.63590161\n",
            " 0.62594023 0.6391543  0.62614353 0.62268754 0.60236347 0.58124787\n",
            " 0.56010556 0.54238564 0.52758437 0.51462197 0.5028469  0.49205545\n",
            " 0.48224372 0.47342351 0.46555641 0.45855814]\n",
            "12 day output [[0.452323]]\n",
            "13 day input [0.71803212 0.72941655 0.73144948 0.74486684 0.76926205 0.75991055\n",
            " 0.74242732 0.73958122 0.74771295 0.75991055 0.7584875  0.76621264\n",
            " 0.75462492 0.76316324 0.79670665 0.80585485 0.7889815  0.78003659\n",
            " 0.73978451 0.73002643 0.73490547 0.74872942 0.75991055 0.75462492\n",
            " 0.75401504 0.76174019 0.7737345  0.82008538 0.80585485 0.81154706\n",
            " 0.77434438 0.78633869 0.79284407 0.78328929 0.77109169 0.74385038\n",
            " 0.71193332 0.68733482 0.67818662 0.65257166 0.64301687 0.65643423\n",
            " 0.67656028 0.67371417 0.65114861 0.65521447 0.66761537 0.67838992\n",
            " 0.69993901 0.63122586 0.63508843 0.64098394 0.64545639 0.64118723\n",
            " 0.63854442 0.63081927 0.62472047 0.6330555  0.64728603 0.6574507\n",
            " 0.66761537 0.66720878 0.64159382 0.62776987 0.63651149 0.63630819\n",
            " 0.62980281 0.62817646 0.63813783 0.65358813 0.63183574 0.57653995\n",
            " 0.57816629 0.57613336 0.61943484 0.57979264 0.57288067 0.62573694\n",
            " 0.63102257 0.6361049  0.62776987 0.6269567  0.63590161 0.62594023\n",
            " 0.6391543  0.62614353 0.62268754 0.60236347 0.58124787 0.56010556\n",
            " 0.54238564 0.52758437 0.51462197 0.5028469  0.49205545 0.48224372\n",
            " 0.47342351 0.46555641 0.45855814 0.45232299]\n",
            "13 day output [[0.44674557]]\n",
            "14 day input [0.72941655 0.73144948 0.74486684 0.76926205 0.75991055 0.74242732\n",
            " 0.73958122 0.74771295 0.75991055 0.7584875  0.76621264 0.75462492\n",
            " 0.76316324 0.79670665 0.80585485 0.7889815  0.78003659 0.73978451\n",
            " 0.73002643 0.73490547 0.74872942 0.75991055 0.75462492 0.75401504\n",
            " 0.76174019 0.7737345  0.82008538 0.80585485 0.81154706 0.77434438\n",
            " 0.78633869 0.79284407 0.78328929 0.77109169 0.74385038 0.71193332\n",
            " 0.68733482 0.67818662 0.65257166 0.64301687 0.65643423 0.67656028\n",
            " 0.67371417 0.65114861 0.65521447 0.66761537 0.67838992 0.69993901\n",
            " 0.63122586 0.63508843 0.64098394 0.64545639 0.64118723 0.63854442\n",
            " 0.63081927 0.62472047 0.6330555  0.64728603 0.6574507  0.66761537\n",
            " 0.66720878 0.64159382 0.62776987 0.63651149 0.63630819 0.62980281\n",
            " 0.62817646 0.63813783 0.65358813 0.63183574 0.57653995 0.57816629\n",
            " 0.57613336 0.61943484 0.57979264 0.57288067 0.62573694 0.63102257\n",
            " 0.6361049  0.62776987 0.6269567  0.63590161 0.62594023 0.6391543\n",
            " 0.62614353 0.62268754 0.60236347 0.58124787 0.56010556 0.54238564\n",
            " 0.52758437 0.51462197 0.5028469  0.49205545 0.48224372 0.47342351\n",
            " 0.46555641 0.45855814 0.45232299 0.44674557]\n",
            "14 day output [[0.44173023]]\n",
            "15 day input [0.73144948 0.74486684 0.76926205 0.75991055 0.74242732 0.73958122\n",
            " 0.74771295 0.75991055 0.7584875  0.76621264 0.75462492 0.76316324\n",
            " 0.79670665 0.80585485 0.7889815  0.78003659 0.73978451 0.73002643\n",
            " 0.73490547 0.74872942 0.75991055 0.75462492 0.75401504 0.76174019\n",
            " 0.7737345  0.82008538 0.80585485 0.81154706 0.77434438 0.78633869\n",
            " 0.79284407 0.78328929 0.77109169 0.74385038 0.71193332 0.68733482\n",
            " 0.67818662 0.65257166 0.64301687 0.65643423 0.67656028 0.67371417\n",
            " 0.65114861 0.65521447 0.66761537 0.67838992 0.69993901 0.63122586\n",
            " 0.63508843 0.64098394 0.64545639 0.64118723 0.63854442 0.63081927\n",
            " 0.62472047 0.6330555  0.64728603 0.6574507  0.66761537 0.66720878\n",
            " 0.64159382 0.62776987 0.63651149 0.63630819 0.62980281 0.62817646\n",
            " 0.63813783 0.65358813 0.63183574 0.57653995 0.57816629 0.57613336\n",
            " 0.61943484 0.57979264 0.57288067 0.62573694 0.63102257 0.6361049\n",
            " 0.62776987 0.6269567  0.63590161 0.62594023 0.6391543  0.62614353\n",
            " 0.62268754 0.60236347 0.58124787 0.56010556 0.54238564 0.52758437\n",
            " 0.51462197 0.5028469  0.49205545 0.48224372 0.47342351 0.46555641\n",
            " 0.45855814 0.45232299 0.44674557 0.44173023]\n",
            "15 day output [[0.43719482]]\n",
            "16 day input [0.74486684 0.76926205 0.75991055 0.74242732 0.73958122 0.74771295\n",
            " 0.75991055 0.7584875  0.76621264 0.75462492 0.76316324 0.79670665\n",
            " 0.80585485 0.7889815  0.78003659 0.73978451 0.73002643 0.73490547\n",
            " 0.74872942 0.75991055 0.75462492 0.75401504 0.76174019 0.7737345\n",
            " 0.82008538 0.80585485 0.81154706 0.77434438 0.78633869 0.79284407\n",
            " 0.78328929 0.77109169 0.74385038 0.71193332 0.68733482 0.67818662\n",
            " 0.65257166 0.64301687 0.65643423 0.67656028 0.67371417 0.65114861\n",
            " 0.65521447 0.66761537 0.67838992 0.69993901 0.63122586 0.63508843\n",
            " 0.64098394 0.64545639 0.64118723 0.63854442 0.63081927 0.62472047\n",
            " 0.6330555  0.64728603 0.6574507  0.66761537 0.66720878 0.64159382\n",
            " 0.62776987 0.63651149 0.63630819 0.62980281 0.62817646 0.63813783\n",
            " 0.65358813 0.63183574 0.57653995 0.57816629 0.57613336 0.61943484\n",
            " 0.57979264 0.57288067 0.62573694 0.63102257 0.6361049  0.62776987\n",
            " 0.6269567  0.63590161 0.62594023 0.6391543  0.62614353 0.62268754\n",
            " 0.60236347 0.58124787 0.56010556 0.54238564 0.52758437 0.51462197\n",
            " 0.5028469  0.49205545 0.48224372 0.47342351 0.46555641 0.45855814\n",
            " 0.45232299 0.44674557 0.44173023 0.43719482]\n",
            "16 day output [[0.43306875]]\n",
            "17 day input [0.76926205 0.75991055 0.74242732 0.73958122 0.74771295 0.75991055\n",
            " 0.7584875  0.76621264 0.75462492 0.76316324 0.79670665 0.80585485\n",
            " 0.7889815  0.78003659 0.73978451 0.73002643 0.73490547 0.74872942\n",
            " 0.75991055 0.75462492 0.75401504 0.76174019 0.7737345  0.82008538\n",
            " 0.80585485 0.81154706 0.77434438 0.78633869 0.79284407 0.78328929\n",
            " 0.77109169 0.74385038 0.71193332 0.68733482 0.67818662 0.65257166\n",
            " 0.64301687 0.65643423 0.67656028 0.67371417 0.65114861 0.65521447\n",
            " 0.66761537 0.67838992 0.69993901 0.63122586 0.63508843 0.64098394\n",
            " 0.64545639 0.64118723 0.63854442 0.63081927 0.62472047 0.6330555\n",
            " 0.64728603 0.6574507  0.66761537 0.66720878 0.64159382 0.62776987\n",
            " 0.63651149 0.63630819 0.62980281 0.62817646 0.63813783 0.65358813\n",
            " 0.63183574 0.57653995 0.57816629 0.57613336 0.61943484 0.57979264\n",
            " 0.57288067 0.62573694 0.63102257 0.6361049  0.62776987 0.6269567\n",
            " 0.63590161 0.62594023 0.6391543  0.62614353 0.62268754 0.60236347\n",
            " 0.58124787 0.56010556 0.54238564 0.52758437 0.51462197 0.5028469\n",
            " 0.49205545 0.48224372 0.47342351 0.46555641 0.45855814 0.45232299\n",
            " 0.44674557 0.44173023 0.43719482 0.43306875]\n",
            "17 day output [[0.42929134]]\n",
            "18 day input [0.75991055 0.74242732 0.73958122 0.74771295 0.75991055 0.7584875\n",
            " 0.76621264 0.75462492 0.76316324 0.79670665 0.80585485 0.7889815\n",
            " 0.78003659 0.73978451 0.73002643 0.73490547 0.74872942 0.75991055\n",
            " 0.75462492 0.75401504 0.76174019 0.7737345  0.82008538 0.80585485\n",
            " 0.81154706 0.77434438 0.78633869 0.79284407 0.78328929 0.77109169\n",
            " 0.74385038 0.71193332 0.68733482 0.67818662 0.65257166 0.64301687\n",
            " 0.65643423 0.67656028 0.67371417 0.65114861 0.65521447 0.66761537\n",
            " 0.67838992 0.69993901 0.63122586 0.63508843 0.64098394 0.64545639\n",
            " 0.64118723 0.63854442 0.63081927 0.62472047 0.6330555  0.64728603\n",
            " 0.6574507  0.66761537 0.66720878 0.64159382 0.62776987 0.63651149\n",
            " 0.63630819 0.62980281 0.62817646 0.63813783 0.65358813 0.63183574\n",
            " 0.57653995 0.57816629 0.57613336 0.61943484 0.57979264 0.57288067\n",
            " 0.62573694 0.63102257 0.6361049  0.62776987 0.6269567  0.63590161\n",
            " 0.62594023 0.6391543  0.62614353 0.62268754 0.60236347 0.58124787\n",
            " 0.56010556 0.54238564 0.52758437 0.51462197 0.5028469  0.49205545\n",
            " 0.48224372 0.47342351 0.46555641 0.45855814 0.45232299 0.44674557\n",
            " 0.44173023 0.43719482 0.43306875 0.42929134]\n",
            "18 day output [[0.42580932]]\n",
            "19 day input [0.74242732 0.73958122 0.74771295 0.75991055 0.7584875  0.76621264\n",
            " 0.75462492 0.76316324 0.79670665 0.80585485 0.7889815  0.78003659\n",
            " 0.73978451 0.73002643 0.73490547 0.74872942 0.75991055 0.75462492\n",
            " 0.75401504 0.76174019 0.7737345  0.82008538 0.80585485 0.81154706\n",
            " 0.77434438 0.78633869 0.79284407 0.78328929 0.77109169 0.74385038\n",
            " 0.71193332 0.68733482 0.67818662 0.65257166 0.64301687 0.65643423\n",
            " 0.67656028 0.67371417 0.65114861 0.65521447 0.66761537 0.67838992\n",
            " 0.69993901 0.63122586 0.63508843 0.64098394 0.64545639 0.64118723\n",
            " 0.63854442 0.63081927 0.62472047 0.6330555  0.64728603 0.6574507\n",
            " 0.66761537 0.66720878 0.64159382 0.62776987 0.63651149 0.63630819\n",
            " 0.62980281 0.62817646 0.63813783 0.65358813 0.63183574 0.57653995\n",
            " 0.57816629 0.57613336 0.61943484 0.57979264 0.57288067 0.62573694\n",
            " 0.63102257 0.6361049  0.62776987 0.6269567  0.63590161 0.62594023\n",
            " 0.6391543  0.62614353 0.62268754 0.60236347 0.58124787 0.56010556\n",
            " 0.54238564 0.52758437 0.51462197 0.5028469  0.49205545 0.48224372\n",
            " 0.47342351 0.46555641 0.45855814 0.45232299 0.44674557 0.44173023\n",
            " 0.43719482 0.43306875 0.42929134 0.42580932]\n",
            "19 day output [[0.4225757]]\n",
            "20 day input [0.73958122 0.74771295 0.75991055 0.7584875  0.76621264 0.75462492\n",
            " 0.76316324 0.79670665 0.80585485 0.7889815  0.78003659 0.73978451\n",
            " 0.73002643 0.73490547 0.74872942 0.75991055 0.75462492 0.75401504\n",
            " 0.76174019 0.7737345  0.82008538 0.80585485 0.81154706 0.77434438\n",
            " 0.78633869 0.79284407 0.78328929 0.77109169 0.74385038 0.71193332\n",
            " 0.68733482 0.67818662 0.65257166 0.64301687 0.65643423 0.67656028\n",
            " 0.67371417 0.65114861 0.65521447 0.66761537 0.67838992 0.69993901\n",
            " 0.63122586 0.63508843 0.64098394 0.64545639 0.64118723 0.63854442\n",
            " 0.63081927 0.62472047 0.6330555  0.64728603 0.6574507  0.66761537\n",
            " 0.66720878 0.64159382 0.62776987 0.63651149 0.63630819 0.62980281\n",
            " 0.62817646 0.63813783 0.65358813 0.63183574 0.57653995 0.57816629\n",
            " 0.57613336 0.61943484 0.57979264 0.57288067 0.62573694 0.63102257\n",
            " 0.6361049  0.62776987 0.6269567  0.63590161 0.62594023 0.6391543\n",
            " 0.62614353 0.62268754 0.60236347 0.58124787 0.56010556 0.54238564\n",
            " 0.52758437 0.51462197 0.5028469  0.49205545 0.48224372 0.47342351\n",
            " 0.46555641 0.45855814 0.45232299 0.44674557 0.44173023 0.43719482\n",
            " 0.43306875 0.42929134 0.42580932 0.42257571]\n",
            "20 day output [[0.41954872]]\n",
            "21 day input [0.74771295 0.75991055 0.7584875  0.76621264 0.75462492 0.76316324\n",
            " 0.79670665 0.80585485 0.7889815  0.78003659 0.73978451 0.73002643\n",
            " 0.73490547 0.74872942 0.75991055 0.75462492 0.75401504 0.76174019\n",
            " 0.7737345  0.82008538 0.80585485 0.81154706 0.77434438 0.78633869\n",
            " 0.79284407 0.78328929 0.77109169 0.74385038 0.71193332 0.68733482\n",
            " 0.67818662 0.65257166 0.64301687 0.65643423 0.67656028 0.67371417\n",
            " 0.65114861 0.65521447 0.66761537 0.67838992 0.69993901 0.63122586\n",
            " 0.63508843 0.64098394 0.64545639 0.64118723 0.63854442 0.63081927\n",
            " 0.62472047 0.6330555  0.64728603 0.6574507  0.66761537 0.66720878\n",
            " 0.64159382 0.62776987 0.63651149 0.63630819 0.62980281 0.62817646\n",
            " 0.63813783 0.65358813 0.63183574 0.57653995 0.57816629 0.57613336\n",
            " 0.61943484 0.57979264 0.57288067 0.62573694 0.63102257 0.6361049\n",
            " 0.62776987 0.6269567  0.63590161 0.62594023 0.6391543  0.62614353\n",
            " 0.62268754 0.60236347 0.58124787 0.56010556 0.54238564 0.52758437\n",
            " 0.51462197 0.5028469  0.49205545 0.48224372 0.47342351 0.46555641\n",
            " 0.45855814 0.45232299 0.44674557 0.44173023 0.43719482 0.43306875\n",
            " 0.42929134 0.42580932 0.42257571 0.41954872]\n",
            "21 day output [[0.4166913]]\n",
            "22 day input [0.75991055 0.7584875  0.76621264 0.75462492 0.76316324 0.79670665\n",
            " 0.80585485 0.7889815  0.78003659 0.73978451 0.73002643 0.73490547\n",
            " 0.74872942 0.75991055 0.75462492 0.75401504 0.76174019 0.7737345\n",
            " 0.82008538 0.80585485 0.81154706 0.77434438 0.78633869 0.79284407\n",
            " 0.78328929 0.77109169 0.74385038 0.71193332 0.68733482 0.67818662\n",
            " 0.65257166 0.64301687 0.65643423 0.67656028 0.67371417 0.65114861\n",
            " 0.65521447 0.66761537 0.67838992 0.69993901 0.63122586 0.63508843\n",
            " 0.64098394 0.64545639 0.64118723 0.63854442 0.63081927 0.62472047\n",
            " 0.6330555  0.64728603 0.6574507  0.66761537 0.66720878 0.64159382\n",
            " 0.62776987 0.63651149 0.63630819 0.62980281 0.62817646 0.63813783\n",
            " 0.65358813 0.63183574 0.57653995 0.57816629 0.57613336 0.61943484\n",
            " 0.57979264 0.57288067 0.62573694 0.63102257 0.6361049  0.62776987\n",
            " 0.6269567  0.63590161 0.62594023 0.6391543  0.62614353 0.62268754\n",
            " 0.60236347 0.58124787 0.56010556 0.54238564 0.52758437 0.51462197\n",
            " 0.5028469  0.49205545 0.48224372 0.47342351 0.46555641 0.45855814\n",
            " 0.45232299 0.44674557 0.44173023 0.43719482 0.43306875 0.42929134\n",
            " 0.42580932 0.42257571 0.41954872 0.4166913 ]\n",
            "22 day output [[0.41397077]]\n",
            "23 day input [0.7584875  0.76621264 0.75462492 0.76316324 0.79670665 0.80585485\n",
            " 0.7889815  0.78003659 0.73978451 0.73002643 0.73490547 0.74872942\n",
            " 0.75991055 0.75462492 0.75401504 0.76174019 0.7737345  0.82008538\n",
            " 0.80585485 0.81154706 0.77434438 0.78633869 0.79284407 0.78328929\n",
            " 0.77109169 0.74385038 0.71193332 0.68733482 0.67818662 0.65257166\n",
            " 0.64301687 0.65643423 0.67656028 0.67371417 0.65114861 0.65521447\n",
            " 0.66761537 0.67838992 0.69993901 0.63122586 0.63508843 0.64098394\n",
            " 0.64545639 0.64118723 0.63854442 0.63081927 0.62472047 0.6330555\n",
            " 0.64728603 0.6574507  0.66761537 0.66720878 0.64159382 0.62776987\n",
            " 0.63651149 0.63630819 0.62980281 0.62817646 0.63813783 0.65358813\n",
            " 0.63183574 0.57653995 0.57816629 0.57613336 0.61943484 0.57979264\n",
            " 0.57288067 0.62573694 0.63102257 0.6361049  0.62776987 0.6269567\n",
            " 0.63590161 0.62594023 0.6391543  0.62614353 0.62268754 0.60236347\n",
            " 0.58124787 0.56010556 0.54238564 0.52758437 0.51462197 0.5028469\n",
            " 0.49205545 0.48224372 0.47342351 0.46555641 0.45855814 0.45232299\n",
            " 0.44674557 0.44173023 0.43719482 0.43306875 0.42929134 0.42580932\n",
            " 0.42257571 0.41954872 0.4166913  0.41397077]\n",
            "23 day output [[0.41135892]]\n",
            "24 day input [0.76621264 0.75462492 0.76316324 0.79670665 0.80585485 0.7889815\n",
            " 0.78003659 0.73978451 0.73002643 0.73490547 0.74872942 0.75991055\n",
            " 0.75462492 0.75401504 0.76174019 0.7737345  0.82008538 0.80585485\n",
            " 0.81154706 0.77434438 0.78633869 0.79284407 0.78328929 0.77109169\n",
            " 0.74385038 0.71193332 0.68733482 0.67818662 0.65257166 0.64301687\n",
            " 0.65643423 0.67656028 0.67371417 0.65114861 0.65521447 0.66761537\n",
            " 0.67838992 0.69993901 0.63122586 0.63508843 0.64098394 0.64545639\n",
            " 0.64118723 0.63854442 0.63081927 0.62472047 0.6330555  0.64728603\n",
            " 0.6574507  0.66761537 0.66720878 0.64159382 0.62776987 0.63651149\n",
            " 0.63630819 0.62980281 0.62817646 0.63813783 0.65358813 0.63183574\n",
            " 0.57653995 0.57816629 0.57613336 0.61943484 0.57979264 0.57288067\n",
            " 0.62573694 0.63102257 0.6361049  0.62776987 0.6269567  0.63590161\n",
            " 0.62594023 0.6391543  0.62614353 0.62268754 0.60236347 0.58124787\n",
            " 0.56010556 0.54238564 0.52758437 0.51462197 0.5028469  0.49205545\n",
            " 0.48224372 0.47342351 0.46555641 0.45855814 0.45232299 0.44674557\n",
            " 0.44173023 0.43719482 0.43306875 0.42929134 0.42580932 0.42257571\n",
            " 0.41954872 0.4166913  0.41397077 0.41135892]\n",
            "24 day output [[0.40883088]]\n",
            "25 day input [0.75462492 0.76316324 0.79670665 0.80585485 0.7889815  0.78003659\n",
            " 0.73978451 0.73002643 0.73490547 0.74872942 0.75991055 0.75462492\n",
            " 0.75401504 0.76174019 0.7737345  0.82008538 0.80585485 0.81154706\n",
            " 0.77434438 0.78633869 0.79284407 0.78328929 0.77109169 0.74385038\n",
            " 0.71193332 0.68733482 0.67818662 0.65257166 0.64301687 0.65643423\n",
            " 0.67656028 0.67371417 0.65114861 0.65521447 0.66761537 0.67838992\n",
            " 0.69993901 0.63122586 0.63508843 0.64098394 0.64545639 0.64118723\n",
            " 0.63854442 0.63081927 0.62472047 0.6330555  0.64728603 0.6574507\n",
            " 0.66761537 0.66720878 0.64159382 0.62776987 0.63651149 0.63630819\n",
            " 0.62980281 0.62817646 0.63813783 0.65358813 0.63183574 0.57653995\n",
            " 0.57816629 0.57613336 0.61943484 0.57979264 0.57288067 0.62573694\n",
            " 0.63102257 0.6361049  0.62776987 0.6269567  0.63590161 0.62594023\n",
            " 0.6391543  0.62614353 0.62268754 0.60236347 0.58124787 0.56010556\n",
            " 0.54238564 0.52758437 0.51462197 0.5028469  0.49205545 0.48224372\n",
            " 0.47342351 0.46555641 0.45855814 0.45232299 0.44674557 0.44173023\n",
            " 0.43719482 0.43306875 0.42929134 0.42580932 0.42257571 0.41954872\n",
            " 0.4166913  0.41397077 0.41135892 0.40883088]\n",
            "25 day output [[0.4063663]]\n",
            "26 day input [0.76316324 0.79670665 0.80585485 0.7889815  0.78003659 0.73978451\n",
            " 0.73002643 0.73490547 0.74872942 0.75991055 0.75462492 0.75401504\n",
            " 0.76174019 0.7737345  0.82008538 0.80585485 0.81154706 0.77434438\n",
            " 0.78633869 0.79284407 0.78328929 0.77109169 0.74385038 0.71193332\n",
            " 0.68733482 0.67818662 0.65257166 0.64301687 0.65643423 0.67656028\n",
            " 0.67371417 0.65114861 0.65521447 0.66761537 0.67838992 0.69993901\n",
            " 0.63122586 0.63508843 0.64098394 0.64545639 0.64118723 0.63854442\n",
            " 0.63081927 0.62472047 0.6330555  0.64728603 0.6574507  0.66761537\n",
            " 0.66720878 0.64159382 0.62776987 0.63651149 0.63630819 0.62980281\n",
            " 0.62817646 0.63813783 0.65358813 0.63183574 0.57653995 0.57816629\n",
            " 0.57613336 0.61943484 0.57979264 0.57288067 0.62573694 0.63102257\n",
            " 0.6361049  0.62776987 0.6269567  0.63590161 0.62594023 0.6391543\n",
            " 0.62614353 0.62268754 0.60236347 0.58124787 0.56010556 0.54238564\n",
            " 0.52758437 0.51462197 0.5028469  0.49205545 0.48224372 0.47342351\n",
            " 0.46555641 0.45855814 0.45232299 0.44674557 0.44173023 0.43719482\n",
            " 0.43306875 0.42929134 0.42580932 0.42257571 0.41954872 0.4166913\n",
            " 0.41397077 0.41135892 0.40883088 0.40636629]\n",
            "26 day output [[0.40394816]]\n",
            "27 day input [0.79670665 0.80585485 0.7889815  0.78003659 0.73978451 0.73002643\n",
            " 0.73490547 0.74872942 0.75991055 0.75462492 0.75401504 0.76174019\n",
            " 0.7737345  0.82008538 0.80585485 0.81154706 0.77434438 0.78633869\n",
            " 0.79284407 0.78328929 0.77109169 0.74385038 0.71193332 0.68733482\n",
            " 0.67818662 0.65257166 0.64301687 0.65643423 0.67656028 0.67371417\n",
            " 0.65114861 0.65521447 0.66761537 0.67838992 0.69993901 0.63122586\n",
            " 0.63508843 0.64098394 0.64545639 0.64118723 0.63854442 0.63081927\n",
            " 0.62472047 0.6330555  0.64728603 0.6574507  0.66761537 0.66720878\n",
            " 0.64159382 0.62776987 0.63651149 0.63630819 0.62980281 0.62817646\n",
            " 0.63813783 0.65358813 0.63183574 0.57653995 0.57816629 0.57613336\n",
            " 0.61943484 0.57979264 0.57288067 0.62573694 0.63102257 0.6361049\n",
            " 0.62776987 0.6269567  0.63590161 0.62594023 0.6391543  0.62614353\n",
            " 0.62268754 0.60236347 0.58124787 0.56010556 0.54238564 0.52758437\n",
            " 0.51462197 0.5028469  0.49205545 0.48224372 0.47342351 0.46555641\n",
            " 0.45855814 0.45232299 0.44674557 0.44173023 0.43719482 0.43306875\n",
            " 0.42929134 0.42580932 0.42257571 0.41954872 0.4166913  0.41397077\n",
            " 0.41135892 0.40883088 0.40636629 0.40394816]\n",
            "27 day output [[0.40156314]]\n",
            "28 day input [0.80585485 0.7889815  0.78003659 0.73978451 0.73002643 0.73490547\n",
            " 0.74872942 0.75991055 0.75462492 0.75401504 0.76174019 0.7737345\n",
            " 0.82008538 0.80585485 0.81154706 0.77434438 0.78633869 0.79284407\n",
            " 0.78328929 0.77109169 0.74385038 0.71193332 0.68733482 0.67818662\n",
            " 0.65257166 0.64301687 0.65643423 0.67656028 0.67371417 0.65114861\n",
            " 0.65521447 0.66761537 0.67838992 0.69993901 0.63122586 0.63508843\n",
            " 0.64098394 0.64545639 0.64118723 0.63854442 0.63081927 0.62472047\n",
            " 0.6330555  0.64728603 0.6574507  0.66761537 0.66720878 0.64159382\n",
            " 0.62776987 0.63651149 0.63630819 0.62980281 0.62817646 0.63813783\n",
            " 0.65358813 0.63183574 0.57653995 0.57816629 0.57613336 0.61943484\n",
            " 0.57979264 0.57288067 0.62573694 0.63102257 0.6361049  0.62776987\n",
            " 0.6269567  0.63590161 0.62594023 0.6391543  0.62614353 0.62268754\n",
            " 0.60236347 0.58124787 0.56010556 0.54238564 0.52758437 0.51462197\n",
            " 0.5028469  0.49205545 0.48224372 0.47342351 0.46555641 0.45855814\n",
            " 0.45232299 0.44674557 0.44173023 0.43719482 0.43306875 0.42929134\n",
            " 0.42580932 0.42257571 0.41954872 0.4166913  0.41397077 0.41135892\n",
            " 0.40883088 0.40636629 0.40394816 0.40156314]\n",
            "28 day output [[0.39920095]]\n",
            "29 day input [0.7889815  0.78003659 0.73978451 0.73002643 0.73490547 0.74872942\n",
            " 0.75991055 0.75462492 0.75401504 0.76174019 0.7737345  0.82008538\n",
            " 0.80585485 0.81154706 0.77434438 0.78633869 0.79284407 0.78328929\n",
            " 0.77109169 0.74385038 0.71193332 0.68733482 0.67818662 0.65257166\n",
            " 0.64301687 0.65643423 0.67656028 0.67371417 0.65114861 0.65521447\n",
            " 0.66761537 0.67838992 0.69993901 0.63122586 0.63508843 0.64098394\n",
            " 0.64545639 0.64118723 0.63854442 0.63081927 0.62472047 0.6330555\n",
            " 0.64728603 0.6574507  0.66761537 0.66720878 0.64159382 0.62776987\n",
            " 0.63651149 0.63630819 0.62980281 0.62817646 0.63813783 0.65358813\n",
            " 0.63183574 0.57653995 0.57816629 0.57613336 0.61943484 0.57979264\n",
            " 0.57288067 0.62573694 0.63102257 0.6361049  0.62776987 0.6269567\n",
            " 0.63590161 0.62594023 0.6391543  0.62614353 0.62268754 0.60236347\n",
            " 0.58124787 0.56010556 0.54238564 0.52758437 0.51462197 0.5028469\n",
            " 0.49205545 0.48224372 0.47342351 0.46555641 0.45855814 0.45232299\n",
            " 0.44674557 0.44173023 0.43719482 0.43306875 0.42929134 0.42580932\n",
            " 0.42257571 0.41954872 0.4166913  0.41397077 0.41135892 0.40883088\n",
            " 0.40636629 0.40394816 0.40156314 0.39920095]\n",
            "29 day output [[0.39685428]]\n",
            "[[0.6023634672164917], [0.581247866153717], [0.560105562210083], [0.5423856377601624], [0.5275843739509583], [0.5146219730377197], [0.502846896648407], [0.4920554459095001], [0.48224371671676636], [0.4734235107898712], [0.46555641293525696], [0.4585581421852112], [0.45232298970222473], [0.4467455744743347], [0.44173023104667664], [0.43719482421875], [0.43306875228881836], [0.42929133772850037], [0.4258093237876892], [0.4225757122039795], [0.41954872012138367], [0.41669130325317383], [0.4139707684516907], [0.41135892271995544], [0.4088308811187744], [0.4063662886619568], [0.4039481580257416], [0.4015631377696991], [0.3992009460926056], [0.3968542814254761]]\n"
          ],
          "name": "stdout"
        }
      ]
    },
    {
      "cell_type": "code",
      "metadata": {
        "id": "GucHp9M7G1vp"
      },
      "source": [
        "day_new=np.arange(1,101)\n",
        "day_pred=np.arange(101,131) #for 30 days prediction"
      ],
      "execution_count": 68,
      "outputs": []
    },
    {
      "cell_type": "code",
      "metadata": {
        "colab": {
          "base_uri": "https://localhost:8080/"
        },
        "id": "m7NYeq-SHNZt",
        "outputId": "96b4de30-9322-496a-d86d-c05e3453aa58"
      },
      "source": [
        "import matplotlib.pyplot as plt\n",
        "len(dd)"
      ],
      "execution_count": 69,
      "outputs": [
        {
          "output_type": "execute_result",
          "data": {
            "text/plain": [
              "2035"
            ]
          },
          "metadata": {
            "tags": []
          },
          "execution_count": 69
        }
      ]
    },
    {
      "cell_type": "code",
      "metadata": {
        "colab": {
          "base_uri": "https://localhost:8080/",
          "height": 281
        },
        "id": "SD5yyCQSHVY9",
        "outputId": "354d000b-7dcc-40a4-e117-6d587161c4ba"
      },
      "source": [
        "#Plotting the previous data and predicted data\n",
        "plt.plot(day_new,sc.inverse_transform(dd[1935:]))\n",
        "plt.plot(day_pred,sc.inverse_transform(l_output))"
      ],
      "execution_count": 70,
      "outputs": [
        {
          "output_type": "execute_result",
          "data": {
            "text/plain": [
              "[<matplotlib.lines.Line2D at 0x7ffa42114190>]"
            ]
          },
          "metadata": {
            "tags": []
          },
          "execution_count": 70
        },
        {
          "output_type": "display_data",
          "data": {
            "image/png": "[encoded data removed]",
            "text/plain": [
              "<Figure size 432x288 with 1 Axes>"
            ]
          },
          "metadata": {
            "tags": [],
            "needs_background": "light"
          }
        }
      ]
    },
    {
      "cell_type": "code",
      "metadata": {
        "colab": {
          "base_uri": "https://localhost:8080/",
          "height": 280
        },
        "id": "A-6uvVg1IM-A",
        "outputId": "2dcfd3bb-02bb-45d6-eea0-702bf72f9125"
      },
      "source": [
        "#Complete output of prediction.\n",
        "d2=dd.tolist()\n",
        "d2.extend(l_output)\n",
        "plt.plot(d2[1500:])\n",
        "#smooth line is our prediction"
      ],
      "execution_count": 71,
      "outputs": [
        {
          "output_type": "execute_result",
          "data": {
            "text/plain": [
              "[<matplotlib.lines.Line2D at 0x7ffa421dd850>]"
            ]
          },
          "metadata": {
            "tags": []
          },
          "execution_count": 71
        },
        {
          "output_type": "display_data",
          "data": {
            "image/png": "[encoded data removed]",
            "text/plain": [
              "<Figure size 432x288 with 1 Axes>"
            ]
          },
          "metadata": {
            "tags": [],
            "needs_background": "light"
          }
        }
      ]
    }
  ]
}